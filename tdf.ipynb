{
 "cells": [
  {
   "cell_type": "code",
   "execution_count": 2,
   "metadata": {},
   "outputs": [],
   "source": [
    "import pandas as pd\n",
    "import matplotlib.pyplot as mp\n",
    "import seaborn as sn\n",
    "import string as s\n",
    "from nltk.corpus import stopwords\n",
    "from nltk.stem import PorterStemmer\n",
    "from nltk.tokenize import sent_tokenize,word_tokenize\n",
    "from wordcloud import WordCloud\n",
    "import plotly.express as px\n",
    "import plotly.graph_objects as go\n",
    "from collections import Counter\n",
    "from sklearn.preprocessing import LabelEncoder\n",
    "from sklearn.decomposition import PCA\n",
    "from sklearn.feature_extraction.text import CountVectorizer\n",
    "from sklearn.feature_extraction.text import TfidfVectorizer\n",
    "from sklearn.model_selection import train_test_split,GridSearchCV,cross_val_score\n",
    "from sklearn.preprocessing import MinMaxScaler\n",
    "from sklearn.naive_bayes import MultinomialNB,GaussianNB,BernoulliNB,ComplementNB\n",
    "from sklearn.ensemble import RandomForestClassifier,ExtraTreesClassifier,AdaBoostClassifier\n",
    "import xgboost as xgb\n",
    "from sklearn.tree import DecisionTreeClassifier\n",
    "from sklearn.metrics import accuracy_score,precision_score\n",
    "import joblib as j\n",
    "import numpy as np\n",
    "import warnings as w\n",
    "w.filterwarnings('ignore')\n",
    "\n"
   ]
  },
  {
   "cell_type": "code",
   "execution_count": 3,
   "metadata": {},
   "outputs": [],
   "source": [
    "df=pd.read_csv('email_classification.csv')"
   ]
  },
  {
   "cell_type": "code",
   "execution_count": null,
   "metadata": {},
   "outputs": [],
   "source": []
  },
  {
   "cell_type": "code",
   "execution_count": 4,
   "metadata": {},
   "outputs": [],
   "source": [
    "# import nltk\n",
    "\n",
    "# # Fix for stopwords and tokenization\n",
    "# nltk.download('stopwords')\n",
    "# nltk.download('punkt')"
   ]
  },
  {
   "cell_type": "code",
   "execution_count": 5,
   "metadata": {},
   "outputs": [
    {
     "data": {
      "text/html": [
       "<div>\n",
       "<style scoped>\n",
       "    .dataframe tbody tr th:only-of-type {\n",
       "        vertical-align: middle;\n",
       "    }\n",
       "\n",
       "    .dataframe tbody tr th {\n",
       "        vertical-align: top;\n",
       "    }\n",
       "\n",
       "    .dataframe thead th {\n",
       "        text-align: right;\n",
       "    }\n",
       "</style>\n",
       "<table border=\"1\" class=\"dataframe\">\n",
       "  <thead>\n",
       "    <tr style=\"text-align: right;\">\n",
       "      <th></th>\n",
       "      <th>email</th>\n",
       "      <th>label</th>\n",
       "    </tr>\n",
       "  </thead>\n",
       "  <tbody>\n",
       "    <tr>\n",
       "      <th>17</th>\n",
       "      <td>Your Facebook account has been hacked. Click h...</td>\n",
       "      <td>spam</td>\n",
       "    </tr>\n",
       "    <tr>\n",
       "      <th>10</th>\n",
       "      <td>Don't miss out on our special offer! Sign up n...</td>\n",
       "      <td>ham</td>\n",
       "    </tr>\n",
       "    <tr>\n",
       "      <th>8</th>\n",
       "      <td>Your account has been credited with loyalty po...</td>\n",
       "      <td>ham</td>\n",
       "    </tr>\n",
       "  </tbody>\n",
       "</table>\n",
       "</div>"
      ],
      "text/plain": [
       "                                                email label\n",
       "17  Your Facebook account has been hacked. Click h...  spam\n",
       "10  Don't miss out on our special offer! Sign up n...   ham\n",
       "8   Your account has been credited with loyalty po...   ham"
      ]
     },
     "execution_count": 5,
     "metadata": {},
     "output_type": "execute_result"
    }
   ],
   "source": [
    "df.sample(3)"
   ]
  },
  {
   "cell_type": "code",
   "execution_count": 6,
   "metadata": {},
   "outputs": [
    {
     "name": "stdout",
     "output_type": "stream",
     "text": [
      "<class 'pandas.core.frame.DataFrame'>\n",
      "RangeIndex: 179 entries, 0 to 178\n",
      "Data columns (total 2 columns):\n",
      " #   Column  Non-Null Count  Dtype \n",
      "---  ------  --------------  ----- \n",
      " 0   email   179 non-null    object\n",
      " 1   label   179 non-null    object\n",
      "dtypes: object(2)\n",
      "memory usage: 2.9+ KB\n"
     ]
    }
   ],
   "source": [
    "df.info()"
   ]
  },
  {
   "cell_type": "code",
   "execution_count": 7,
   "metadata": {},
   "outputs": [
    {
     "data": {
      "text/plain": [
       "label\n",
       "ham     100\n",
       "spam     79\n",
       "Name: count, dtype: int64"
      ]
     },
     "execution_count": 7,
     "metadata": {},
     "output_type": "execute_result"
    }
   ],
   "source": [
    "df['label'].value_counts()"
   ]
  },
  {
   "cell_type": "code",
   "execution_count": 8,
   "metadata": {},
   "outputs": [
    {
     "data": {
      "text/plain": [
       "81"
      ]
     },
     "execution_count": 8,
     "metadata": {},
     "output_type": "execute_result"
    }
   ],
   "source": [
    "len(df['email'][0])"
   ]
  },
  {
   "cell_type": "code",
   "execution_count": 9,
   "metadata": {},
   "outputs": [],
   "source": [
    "def count_characters(x):\n",
    "    return len(x)\n",
    "df['total_characters']=df['email'].apply(count_characters)"
   ]
  },
  {
   "cell_type": "code",
   "execution_count": 10,
   "metadata": {},
   "outputs": [
    {
     "data": {
      "text/html": [
       "<div>\n",
       "<style scoped>\n",
       "    .dataframe tbody tr th:only-of-type {\n",
       "        vertical-align: middle;\n",
       "    }\n",
       "\n",
       "    .dataframe tbody tr th {\n",
       "        vertical-align: top;\n",
       "    }\n",
       "\n",
       "    .dataframe thead th {\n",
       "        text-align: right;\n",
       "    }\n",
       "</style>\n",
       "<table border=\"1\" class=\"dataframe\">\n",
       "  <thead>\n",
       "    <tr style=\"text-align: right;\">\n",
       "      <th></th>\n",
       "      <th>email</th>\n",
       "      <th>label</th>\n",
       "      <th>total_characters</th>\n",
       "    </tr>\n",
       "  </thead>\n",
       "  <tbody>\n",
       "    <tr>\n",
       "      <th>0</th>\n",
       "      <td>Upgrade to our premium plan for exclusive acce...</td>\n",
       "      <td>ham</td>\n",
       "      <td>81</td>\n",
       "    </tr>\n",
       "    <tr>\n",
       "      <th>1</th>\n",
       "      <td>Happy holidays from our team! Wishing you joy ...</td>\n",
       "      <td>ham</td>\n",
       "      <td>73</td>\n",
       "    </tr>\n",
       "    <tr>\n",
       "      <th>2</th>\n",
       "      <td>We're hiring! Check out our career opportuniti...</td>\n",
       "      <td>ham</td>\n",
       "      <td>75</td>\n",
       "    </tr>\n",
       "  </tbody>\n",
       "</table>\n",
       "</div>"
      ],
      "text/plain": [
       "                                               email label  total_characters\n",
       "0  Upgrade to our premium plan for exclusive acce...   ham                81\n",
       "1  Happy holidays from our team! Wishing you joy ...   ham                73\n",
       "2  We're hiring! Check out our career opportuniti...   ham                75"
      ]
     },
     "execution_count": 10,
     "metadata": {},
     "output_type": "execute_result"
    }
   ],
   "source": [
    "df.head(3)"
   ]
  },
  {
   "cell_type": "code",
   "execution_count": 11,
   "metadata": {},
   "outputs": [
    {
     "data": {
      "text/plain": [
       "'Happy holidays from our team! Wishing you joy and prosperity this season.'"
      ]
     },
     "execution_count": 11,
     "metadata": {},
     "output_type": "execute_result"
    }
   ],
   "source": [
    "df['email'][1]"
   ]
  },
  {
   "cell_type": "code",
   "execution_count": 12,
   "metadata": {},
   "outputs": [],
   "source": [
    "def count_words(x):\n",
    "    return len(x.split(\" \"))\n",
    "df['total_words']=df['email'].apply(count_words)"
   ]
  },
  {
   "cell_type": "code",
   "execution_count": 13,
   "metadata": {},
   "outputs": [
    {
     "data": {
      "text/html": [
       "<div>\n",
       "<style scoped>\n",
       "    .dataframe tbody tr th:only-of-type {\n",
       "        vertical-align: middle;\n",
       "    }\n",
       "\n",
       "    .dataframe tbody tr th {\n",
       "        vertical-align: top;\n",
       "    }\n",
       "\n",
       "    .dataframe thead th {\n",
       "        text-align: right;\n",
       "    }\n",
       "</style>\n",
       "<table border=\"1\" class=\"dataframe\">\n",
       "  <thead>\n",
       "    <tr style=\"text-align: right;\">\n",
       "      <th></th>\n",
       "      <th>email</th>\n",
       "      <th>label</th>\n",
       "      <th>total_characters</th>\n",
       "      <th>total_words</th>\n",
       "    </tr>\n",
       "  </thead>\n",
       "  <tbody>\n",
       "    <tr>\n",
       "      <th>4</th>\n",
       "      <td>Your opinion matters! Take our survey and help...</td>\n",
       "      <td>ham</td>\n",
       "      <td>74</td>\n",
       "      <td>12</td>\n",
       "    </tr>\n",
       "    <tr>\n",
       "      <th>134</th>\n",
       "      <td>Thank you for your loyalty. Here's a special d...</td>\n",
       "      <td>ham</td>\n",
       "      <td>82</td>\n",
       "      <td>14</td>\n",
       "    </tr>\n",
       "    <tr>\n",
       "      <th>51</th>\n",
       "      <td>You've been selected for a free trial of our p...</td>\n",
       "      <td>spam</td>\n",
       "      <td>89</td>\n",
       "      <td>16</td>\n",
       "    </tr>\n",
       "  </tbody>\n",
       "</table>\n",
       "</div>"
      ],
      "text/plain": [
       "                                                 email label  \\\n",
       "4    Your opinion matters! Take our survey and help...   ham   \n",
       "134  Thank you for your loyalty. Here's a special d...   ham   \n",
       "51   You've been selected for a free trial of our p...  spam   \n",
       "\n",
       "     total_characters  total_words  \n",
       "4                  74           12  \n",
       "134                82           14  \n",
       "51                 89           16  "
      ]
     },
     "execution_count": 13,
     "metadata": {},
     "output_type": "execute_result"
    }
   ],
   "source": [
    "df.sample(3)"
   ]
  },
  {
   "cell_type": "code",
   "execution_count": 14,
   "metadata": {},
   "outputs": [],
   "source": [
    "df['email']=df['email'].str.lower()"
   ]
  },
  {
   "cell_type": "code",
   "execution_count": 15,
   "metadata": {},
   "outputs": [],
   "source": [
    "\n",
    "df['count_offer']=df['email'].apply(lambda x: 1 if \"offer\" in x else 0)\n",
    "      "
   ]
  },
  {
   "cell_type": "code",
   "execution_count": 16,
   "metadata": {},
   "outputs": [
    {
     "data": {
      "text/plain": [
       "count_offer\n",
       "0    166\n",
       "1     13\n",
       "Name: count, dtype: int64"
      ]
     },
     "execution_count": 16,
     "metadata": {},
     "output_type": "execute_result"
    }
   ],
   "source": [
    "df['count_offer'].value_counts()"
   ]
  },
  {
   "cell_type": "code",
   "execution_count": 17,
   "metadata": {},
   "outputs": [
    {
     "data": {
      "text/html": [
       "<div>\n",
       "<style scoped>\n",
       "    .dataframe tbody tr th:only-of-type {\n",
       "        vertical-align: middle;\n",
       "    }\n",
       "\n",
       "    .dataframe tbody tr th {\n",
       "        vertical-align: top;\n",
       "    }\n",
       "\n",
       "    .dataframe thead th {\n",
       "        text-align: right;\n",
       "    }\n",
       "</style>\n",
       "<table border=\"1\" class=\"dataframe\">\n",
       "  <thead>\n",
       "    <tr style=\"text-align: right;\">\n",
       "      <th></th>\n",
       "      <th>email</th>\n",
       "      <th>label</th>\n",
       "    </tr>\n",
       "  </thead>\n",
       "  <tbody>\n",
       "    <tr>\n",
       "      <th>10</th>\n",
       "      <td>don't miss out on our special offer! sign up n...</td>\n",
       "      <td>ham</td>\n",
       "    </tr>\n",
       "    <tr>\n",
       "      <th>21</th>\n",
       "      <td>get ready for our flash sale! limited-time off...</td>\n",
       "      <td>ham</td>\n",
       "    </tr>\n",
       "    <tr>\n",
       "      <th>28</th>\n",
       "      <td>thank you for your recent purchase. here's a s...</td>\n",
       "      <td>ham</td>\n",
       "    </tr>\n",
       "    <tr>\n",
       "      <th>63</th>\n",
       "      <td>don't miss out on our limited-time offer. shop...</td>\n",
       "      <td>ham</td>\n",
       "    </tr>\n",
       "    <tr>\n",
       "      <th>75</th>\n",
       "      <td>act fast! limited-time offer on designer handb...</td>\n",
       "      <td>spam</td>\n",
       "    </tr>\n",
       "    <tr>\n",
       "      <th>78</th>\n",
       "      <td>act now! limited-time offer on luxury watches....</td>\n",
       "      <td>spam</td>\n",
       "    </tr>\n",
       "    <tr>\n",
       "      <th>94</th>\n",
       "      <td>thank you for subscribing to our newsletter. h...</td>\n",
       "      <td>ham</td>\n",
       "    </tr>\n",
       "    <tr>\n",
       "      <th>137</th>\n",
       "      <td>we're celebrating our anniversary! join us for...</td>\n",
       "      <td>ham</td>\n",
       "    </tr>\n",
       "    <tr>\n",
       "      <th>159</th>\n",
       "      <td>act fast! limited-time offer on designer handb...</td>\n",
       "      <td>spam</td>\n",
       "    </tr>\n",
       "    <tr>\n",
       "      <th>165</th>\n",
       "      <td>act fast! limited-time offer on luxury watches...</td>\n",
       "      <td>spam</td>\n",
       "    </tr>\n",
       "    <tr>\n",
       "      <th>167</th>\n",
       "      <td>congratulations! you've been selected for a sp...</td>\n",
       "      <td>ham</td>\n",
       "    </tr>\n",
       "    <tr>\n",
       "      <th>169</th>\n",
       "      <td>congratulations on your recent purchase! here'...</td>\n",
       "      <td>ham</td>\n",
       "    </tr>\n",
       "    <tr>\n",
       "      <th>178</th>\n",
       "      <td>limited-time offer! get 50% off on all purchas...</td>\n",
       "      <td>spam</td>\n",
       "    </tr>\n",
       "  </tbody>\n",
       "</table>\n",
       "</div>"
      ],
      "text/plain": [
       "                                                 email label\n",
       "10   don't miss out on our special offer! sign up n...   ham\n",
       "21   get ready for our flash sale! limited-time off...   ham\n",
       "28   thank you for your recent purchase. here's a s...   ham\n",
       "63   don't miss out on our limited-time offer. shop...   ham\n",
       "75   act fast! limited-time offer on designer handb...  spam\n",
       "78   act now! limited-time offer on luxury watches....  spam\n",
       "94   thank you for subscribing to our newsletter. h...   ham\n",
       "137  we're celebrating our anniversary! join us for...   ham\n",
       "159  act fast! limited-time offer on designer handb...  spam\n",
       "165  act fast! limited-time offer on luxury watches...  spam\n",
       "167  congratulations! you've been selected for a sp...   ham\n",
       "169  congratulations on your recent purchase! here'...   ham\n",
       "178  limited-time offer! get 50% off on all purchas...  spam"
      ]
     },
     "execution_count": 17,
     "metadata": {},
     "output_type": "execute_result"
    }
   ],
   "source": [
    "df.loc[df['count_offer']==1,['email','label']]"
   ]
  },
  {
   "cell_type": "code",
   "execution_count": 18,
   "metadata": {},
   "outputs": [],
   "source": [
    "df['count_act']=df['email'].apply(lambda x: 1 if x.startswith(\"act\")  else 0)"
   ]
  },
  {
   "cell_type": "code",
   "execution_count": 19,
   "metadata": {},
   "outputs": [
    {
     "data": {
      "text/plain": [
       "count_act\n",
       "0    175\n",
       "1      4\n",
       "Name: count, dtype: int64"
      ]
     },
     "execution_count": 19,
     "metadata": {},
     "output_type": "execute_result"
    }
   ],
   "source": [
    "df['count_act'].value_counts()"
   ]
  },
  {
   "cell_type": "code",
   "execution_count": 20,
   "metadata": {},
   "outputs": [
    {
     "data": {
      "text/html": [
       "<div>\n",
       "<style scoped>\n",
       "    .dataframe tbody tr th:only-of-type {\n",
       "        vertical-align: middle;\n",
       "    }\n",
       "\n",
       "    .dataframe tbody tr th {\n",
       "        vertical-align: top;\n",
       "    }\n",
       "\n",
       "    .dataframe thead th {\n",
       "        text-align: right;\n",
       "    }\n",
       "</style>\n",
       "<table border=\"1\" class=\"dataframe\">\n",
       "  <thead>\n",
       "    <tr style=\"text-align: right;\">\n",
       "      <th></th>\n",
       "      <th>email</th>\n",
       "      <th>label</th>\n",
       "    </tr>\n",
       "  </thead>\n",
       "  <tbody>\n",
       "    <tr>\n",
       "      <th>75</th>\n",
       "      <td>act fast! limited-time offer on designer handb...</td>\n",
       "      <td>spam</td>\n",
       "    </tr>\n",
       "    <tr>\n",
       "      <th>78</th>\n",
       "      <td>act now! limited-time offer on luxury watches....</td>\n",
       "      <td>spam</td>\n",
       "    </tr>\n",
       "    <tr>\n",
       "      <th>159</th>\n",
       "      <td>act fast! limited-time offer on designer handb...</td>\n",
       "      <td>spam</td>\n",
       "    </tr>\n",
       "    <tr>\n",
       "      <th>165</th>\n",
       "      <td>act fast! limited-time offer on luxury watches...</td>\n",
       "      <td>spam</td>\n",
       "    </tr>\n",
       "  </tbody>\n",
       "</table>\n",
       "</div>"
      ],
      "text/plain": [
       "                                                 email label\n",
       "75   act fast! limited-time offer on designer handb...  spam\n",
       "78   act now! limited-time offer on luxury watches....  spam\n",
       "159  act fast! limited-time offer on designer handb...  spam\n",
       "165  act fast! limited-time offer on luxury watches...  spam"
      ]
     },
     "execution_count": 20,
     "metadata": {},
     "output_type": "execute_result"
    }
   ],
   "source": [
    "df.loc[df['count_act']==1 ,['email','label']]"
   ]
  },
  {
   "cell_type": "code",
   "execution_count": 21,
   "metadata": {},
   "outputs": [
    {
     "data": {
      "text/plain": [
       "\"we're here to help! contact our customer support team for assistance.\""
      ]
     },
     "execution_count": 21,
     "metadata": {},
     "output_type": "execute_result"
    }
   ],
   "source": [
    "df['email'][117]"
   ]
  },
  {
   "cell_type": "code",
   "execution_count": 22,
   "metadata": {},
   "outputs": [],
   "source": [
    "df['get_limited_time']=df['email'].apply(lambda x:1 if \"limited-time\" in x else 0 )"
   ]
  },
  {
   "cell_type": "code",
   "execution_count": 23,
   "metadata": {},
   "outputs": [
    {
     "data": {
      "text/plain": [
       "get_limited_time\n",
       "0    172\n",
       "1      7\n",
       "Name: count, dtype: int64"
      ]
     },
     "execution_count": 23,
     "metadata": {},
     "output_type": "execute_result"
    }
   ],
   "source": [
    "df['get_limited_time'].value_counts()"
   ]
  },
  {
   "cell_type": "code",
   "execution_count": 24,
   "metadata": {},
   "outputs": [
    {
     "data": {
      "text/html": [
       "<div>\n",
       "<style scoped>\n",
       "    .dataframe tbody tr th:only-of-type {\n",
       "        vertical-align: middle;\n",
       "    }\n",
       "\n",
       "    .dataframe tbody tr th {\n",
       "        vertical-align: top;\n",
       "    }\n",
       "\n",
       "    .dataframe thead th {\n",
       "        text-align: right;\n",
       "    }\n",
       "</style>\n",
       "<table border=\"1\" class=\"dataframe\">\n",
       "  <thead>\n",
       "    <tr style=\"text-align: right;\">\n",
       "      <th></th>\n",
       "      <th>email</th>\n",
       "      <th>label</th>\n",
       "      <th>total_characters</th>\n",
       "      <th>total_words</th>\n",
       "      <th>count_offer</th>\n",
       "      <th>count_act</th>\n",
       "      <th>get_limited_time</th>\n",
       "    </tr>\n",
       "  </thead>\n",
       "  <tbody>\n",
       "    <tr>\n",
       "      <th>114</th>\n",
       "      <td>get exclusive access to our vip club. click he...</td>\n",
       "      <td>spam</td>\n",
       "      <td>61</td>\n",
       "      <td>12</td>\n",
       "      <td>0</td>\n",
       "      <td>0</td>\n",
       "      <td>0</td>\n",
       "    </tr>\n",
       "    <tr>\n",
       "      <th>164</th>\n",
       "      <td>unlock exclusive discounts! click here to join...</td>\n",
       "      <td>spam</td>\n",
       "      <td>67</td>\n",
       "      <td>10</td>\n",
       "      <td>0</td>\n",
       "      <td>0</td>\n",
       "      <td>0</td>\n",
       "    </tr>\n",
       "    <tr>\n",
       "      <th>97</th>\n",
       "      <td>your account has been hacked. click here to re...</td>\n",
       "      <td>spam</td>\n",
       "      <td>64</td>\n",
       "      <td>11</td>\n",
       "      <td>0</td>\n",
       "      <td>0</td>\n",
       "      <td>0</td>\n",
       "    </tr>\n",
       "    <tr>\n",
       "      <th>104</th>\n",
       "      <td>congratulations! you've been selected for a fr...</td>\n",
       "      <td>spam</td>\n",
       "      <td>107</td>\n",
       "      <td>17</td>\n",
       "      <td>0</td>\n",
       "      <td>0</td>\n",
       "      <td>0</td>\n",
       "    </tr>\n",
       "    <tr>\n",
       "      <th>101</th>\n",
       "      <td>your paypal account has been locked. click her...</td>\n",
       "      <td>spam</td>\n",
       "      <td>79</td>\n",
       "      <td>13</td>\n",
       "      <td>0</td>\n",
       "      <td>0</td>\n",
       "      <td>0</td>\n",
       "    </tr>\n",
       "  </tbody>\n",
       "</table>\n",
       "</div>"
      ],
      "text/plain": [
       "                                                 email label  \\\n",
       "114  get exclusive access to our vip club. click he...  spam   \n",
       "164  unlock exclusive discounts! click here to join...  spam   \n",
       "97   your account has been hacked. click here to re...  spam   \n",
       "104  congratulations! you've been selected for a fr...  spam   \n",
       "101  your paypal account has been locked. click her...  spam   \n",
       "\n",
       "     total_characters  total_words  count_offer  count_act  get_limited_time  \n",
       "114                61           12            0          0                 0  \n",
       "164                67           10            0          0                 0  \n",
       "97                 64           11            0          0                 0  \n",
       "104               107           17            0          0                 0  \n",
       "101                79           13            0          0                 0  "
      ]
     },
     "execution_count": 24,
     "metadata": {},
     "output_type": "execute_result"
    }
   ],
   "source": [
    "df.sample(5)"
   ]
  },
  {
   "cell_type": "code",
   "execution_count": 25,
   "metadata": {},
   "outputs": [],
   "source": [
    "df['count_click']=df['email'].apply(lambda x: 1 if \"click\" in x else 0)"
   ]
  },
  {
   "cell_type": "code",
   "execution_count": 26,
   "metadata": {},
   "outputs": [
    {
     "data": {
      "text/plain": [
       "count_click\n",
       "0    104\n",
       "1     75\n",
       "Name: count, dtype: int64"
      ]
     },
     "execution_count": 26,
     "metadata": {},
     "output_type": "execute_result"
    }
   ],
   "source": [
    "df['count_click'].value_counts()"
   ]
  },
  {
   "cell_type": "code",
   "execution_count": 27,
   "metadata": {},
   "outputs": [
    {
     "data": {
      "text/html": [
       "<div>\n",
       "<style scoped>\n",
       "    .dataframe tbody tr th:only-of-type {\n",
       "        vertical-align: middle;\n",
       "    }\n",
       "\n",
       "    .dataframe tbody tr th {\n",
       "        vertical-align: top;\n",
       "    }\n",
       "\n",
       "    .dataframe thead th {\n",
       "        text-align: right;\n",
       "    }\n",
       "</style>\n",
       "<table border=\"1\" class=\"dataframe\">\n",
       "  <thead>\n",
       "    <tr style=\"text-align: right;\">\n",
       "      <th></th>\n",
       "      <th>email</th>\n",
       "      <th>label</th>\n",
       "    </tr>\n",
       "  </thead>\n",
       "  <tbody>\n",
       "    <tr>\n",
       "      <th>3</th>\n",
       "      <td>your amazon account has been locked. click her...</td>\n",
       "      <td>spam</td>\n",
       "    </tr>\n",
       "    <tr>\n",
       "      <th>6</th>\n",
       "      <td>your email account storage is full. click here...</td>\n",
       "      <td>spam</td>\n",
       "    </tr>\n",
       "    <tr>\n",
       "      <th>9</th>\n",
       "      <td>you've been chosen for a free iphone. click he...</td>\n",
       "      <td>spam</td>\n",
       "    </tr>\n",
       "    <tr>\n",
       "      <th>12</th>\n",
       "      <td>you're pre-approved for a loan. click here to ...</td>\n",
       "      <td>spam</td>\n",
       "    </tr>\n",
       "    <tr>\n",
       "      <th>16</th>\n",
       "      <td>you're a winner! click here to claim your excl...</td>\n",
       "      <td>spam</td>\n",
       "    </tr>\n",
       "    <tr>\n",
       "      <th>...</th>\n",
       "      <td>...</td>\n",
       "      <td>...</td>\n",
       "    </tr>\n",
       "    <tr>\n",
       "      <th>164</th>\n",
       "      <td>unlock exclusive discounts! click here to join...</td>\n",
       "      <td>spam</td>\n",
       "    </tr>\n",
       "    <tr>\n",
       "      <th>165</th>\n",
       "      <td>act fast! limited-time offer on luxury watches...</td>\n",
       "      <td>spam</td>\n",
       "    </tr>\n",
       "    <tr>\n",
       "      <th>168</th>\n",
       "      <td>your credit card has been charged for unauthor...</td>\n",
       "      <td>spam</td>\n",
       "    </tr>\n",
       "    <tr>\n",
       "      <th>171</th>\n",
       "      <td>you've been chosen for a free iphone. click he...</td>\n",
       "      <td>spam</td>\n",
       "    </tr>\n",
       "    <tr>\n",
       "      <th>172</th>\n",
       "      <td>congratulations! you've won a free trip to eur...</td>\n",
       "      <td>spam</td>\n",
       "    </tr>\n",
       "  </tbody>\n",
       "</table>\n",
       "<p>75 rows × 2 columns</p>\n",
       "</div>"
      ],
      "text/plain": [
       "                                                 email label\n",
       "3    your amazon account has been locked. click her...  spam\n",
       "6    your email account storage is full. click here...  spam\n",
       "9    you've been chosen for a free iphone. click he...  spam\n",
       "12   you're pre-approved for a loan. click here to ...  spam\n",
       "16   you're a winner! click here to claim your excl...  spam\n",
       "..                                                 ...   ...\n",
       "164  unlock exclusive discounts! click here to join...  spam\n",
       "165  act fast! limited-time offer on luxury watches...  spam\n",
       "168  your credit card has been charged for unauthor...  spam\n",
       "171  you've been chosen for a free iphone. click he...  spam\n",
       "172  congratulations! you've won a free trip to eur...  spam\n",
       "\n",
       "[75 rows x 2 columns]"
      ]
     },
     "execution_count": 27,
     "metadata": {},
     "output_type": "execute_result"
    }
   ],
   "source": [
    "df.loc[df['count_click']==1,['email','label']]"
   ]
  },
  {
   "cell_type": "code",
   "execution_count": 28,
   "metadata": {},
   "outputs": [],
   "source": [
    "df['count_won']=df['email'].apply(lambda x : 1 if \"won\"  in x or \"win\" in x else 0)"
   ]
  },
  {
   "cell_type": "code",
   "execution_count": 29,
   "metadata": {},
   "outputs": [
    {
     "data": {
      "text/plain": [
       "count_won\n",
       "0    157\n",
       "1     22\n",
       "Name: count, dtype: int64"
      ]
     },
     "execution_count": 29,
     "metadata": {},
     "output_type": "execute_result"
    }
   ],
   "source": [
    "df['count_won'].value_counts()"
   ]
  },
  {
   "cell_type": "code",
   "execution_count": 30,
   "metadata": {},
   "outputs": [
    {
     "data": {
      "text/html": [
       "<div>\n",
       "<style scoped>\n",
       "    .dataframe tbody tr th:only-of-type {\n",
       "        vertical-align: middle;\n",
       "    }\n",
       "\n",
       "    .dataframe tbody tr th {\n",
       "        vertical-align: top;\n",
       "    }\n",
       "\n",
       "    .dataframe thead th {\n",
       "        text-align: right;\n",
       "    }\n",
       "</style>\n",
       "<table border=\"1\" class=\"dataframe\">\n",
       "  <thead>\n",
       "    <tr style=\"text-align: right;\">\n",
       "      <th></th>\n",
       "      <th>email</th>\n",
       "      <th>label</th>\n",
       "    </tr>\n",
       "  </thead>\n",
       "  <tbody>\n",
       "    <tr>\n",
       "      <th>16</th>\n",
       "      <td>you're a winner! click here to claim your excl...</td>\n",
       "      <td>spam</td>\n",
       "    </tr>\n",
       "    <tr>\n",
       "      <th>24</th>\n",
       "      <td>you've won a luxury car! click here to claim y...</td>\n",
       "      <td>spam</td>\n",
       "    </tr>\n",
       "    <tr>\n",
       "      <th>32</th>\n",
       "      <td>congratulations! you've won a free vacation to...</td>\n",
       "      <td>spam</td>\n",
       "    </tr>\n",
       "    <tr>\n",
       "      <th>48</th>\n",
       "      <td>congratulations! you've won a free trip to eur...</td>\n",
       "      <td>spam</td>\n",
       "    </tr>\n",
       "    <tr>\n",
       "      <th>54</th>\n",
       "      <td>you've won a luxury car! click here to claim y...</td>\n",
       "      <td>spam</td>\n",
       "    </tr>\n",
       "    <tr>\n",
       "      <th>56</th>\n",
       "      <td>your opinion matters! take our survey and get ...</td>\n",
       "      <td>ham</td>\n",
       "    </tr>\n",
       "    <tr>\n",
       "      <th>67</th>\n",
       "      <td>congratulations! you're our lucky winner of th...</td>\n",
       "      <td>spam</td>\n",
       "    </tr>\n",
       "    <tr>\n",
       "      <th>76</th>\n",
       "      <td>claim your prize now! click here to confirm yo...</td>\n",
       "      <td>spam</td>\n",
       "    </tr>\n",
       "    <tr>\n",
       "      <th>79</th>\n",
       "      <td>congratulations! you're the lucky winner of ou...</td>\n",
       "      <td>spam</td>\n",
       "    </tr>\n",
       "    <tr>\n",
       "      <th>89</th>\n",
       "      <td>you've won a luxury cruise! click here to clai...</td>\n",
       "      <td>spam</td>\n",
       "    </tr>\n",
       "    <tr>\n",
       "      <th>92</th>\n",
       "      <td>you've won a shopping spree! click here to cla...</td>\n",
       "      <td>spam</td>\n",
       "    </tr>\n",
       "    <tr>\n",
       "      <th>100</th>\n",
       "      <td>congratulations! you're the winner of our dail...</td>\n",
       "      <td>spam</td>\n",
       "    </tr>\n",
       "    <tr>\n",
       "      <th>110</th>\n",
       "      <td>congratulations! you're the winner of our dail...</td>\n",
       "      <td>spam</td>\n",
       "    </tr>\n",
       "    <tr>\n",
       "      <th>111</th>\n",
       "      <td>claim your prize now! click here to confirm yo...</td>\n",
       "      <td>spam</td>\n",
       "    </tr>\n",
       "    <tr>\n",
       "      <th>115</th>\n",
       "      <td>you're our lucky winner! click here to claim y...</td>\n",
       "      <td>spam</td>\n",
       "    </tr>\n",
       "    <tr>\n",
       "      <th>125</th>\n",
       "      <td>we're hosting a giveaway on our social media c...</td>\n",
       "      <td>ham</td>\n",
       "    </tr>\n",
       "    <tr>\n",
       "      <th>132</th>\n",
       "      <td>congratulations! you're the lucky winner of ou...</td>\n",
       "      <td>spam</td>\n",
       "    </tr>\n",
       "    <tr>\n",
       "      <th>145</th>\n",
       "      <td>you've won a shopping spree! click here to cla...</td>\n",
       "      <td>spam</td>\n",
       "    </tr>\n",
       "    <tr>\n",
       "      <th>148</th>\n",
       "      <td>you've won a lottery! click here to claim your...</td>\n",
       "      <td>spam</td>\n",
       "    </tr>\n",
       "    <tr>\n",
       "      <th>160</th>\n",
       "      <td>you've won a luxury cruise! click here to clai...</td>\n",
       "      <td>spam</td>\n",
       "    </tr>\n",
       "    <tr>\n",
       "      <th>163</th>\n",
       "      <td>you've won a shopping spree! click here to cla...</td>\n",
       "      <td>spam</td>\n",
       "    </tr>\n",
       "    <tr>\n",
       "      <th>172</th>\n",
       "      <td>congratulations! you've won a free trip to eur...</td>\n",
       "      <td>spam</td>\n",
       "    </tr>\n",
       "  </tbody>\n",
       "</table>\n",
       "</div>"
      ],
      "text/plain": [
       "                                                 email label\n",
       "16   you're a winner! click here to claim your excl...  spam\n",
       "24   you've won a luxury car! click here to claim y...  spam\n",
       "32   congratulations! you've won a free vacation to...  spam\n",
       "48   congratulations! you've won a free trip to eur...  spam\n",
       "54   you've won a luxury car! click here to claim y...  spam\n",
       "56   your opinion matters! take our survey and get ...   ham\n",
       "67   congratulations! you're our lucky winner of th...  spam\n",
       "76   claim your prize now! click here to confirm yo...  spam\n",
       "79   congratulations! you're the lucky winner of ou...  spam\n",
       "89   you've won a luxury cruise! click here to clai...  spam\n",
       "92   you've won a shopping spree! click here to cla...  spam\n",
       "100  congratulations! you're the winner of our dail...  spam\n",
       "110  congratulations! you're the winner of our dail...  spam\n",
       "111  claim your prize now! click here to confirm yo...  spam\n",
       "115  you're our lucky winner! click here to claim y...  spam\n",
       "125  we're hosting a giveaway on our social media c...   ham\n",
       "132  congratulations! you're the lucky winner of ou...  spam\n",
       "145  you've won a shopping spree! click here to cla...  spam\n",
       "148  you've won a lottery! click here to claim your...  spam\n",
       "160  you've won a luxury cruise! click here to clai...  spam\n",
       "163  you've won a shopping spree! click here to cla...  spam\n",
       "172  congratulations! you've won a free trip to eur...  spam"
      ]
     },
     "execution_count": 30,
     "metadata": {},
     "output_type": "execute_result"
    }
   ],
   "source": [
    "df.loc[df['count_won']==1,['email','label']]"
   ]
  },
  {
   "cell_type": "code",
   "execution_count": 31,
   "metadata": {},
   "outputs": [],
   "source": [
    "df['count_lottery']=df['email'].apply(lambda x: 1 if \"lottery\" in x else 0)"
   ]
  },
  {
   "cell_type": "code",
   "execution_count": 32,
   "metadata": {},
   "outputs": [
    {
     "data": {
      "text/plain": [
       "count_lottery\n",
       "0    178\n",
       "1      1\n",
       "Name: count, dtype: int64"
      ]
     },
     "execution_count": 32,
     "metadata": {},
     "output_type": "execute_result"
    }
   ],
   "source": [
    "df['count_lottery'].value_counts()"
   ]
  },
  {
   "cell_type": "code",
   "execution_count": 33,
   "metadata": {},
   "outputs": [],
   "source": [
    "df['count_congratulation']=df['email'].apply(lambda x : 1 if \"congratulations\" in x else 0)"
   ]
  },
  {
   "cell_type": "code",
   "execution_count": 34,
   "metadata": {},
   "outputs": [
    {
     "data": {
      "text/plain": [
       "count_congratulation\n",
       "0    163\n",
       "1     16\n",
       "Name: count, dtype: int64"
      ]
     },
     "execution_count": 34,
     "metadata": {},
     "output_type": "execute_result"
    }
   ],
   "source": [
    "df['count_congratulation'].value_counts()"
   ]
  },
  {
   "cell_type": "code",
   "execution_count": 35,
   "metadata": {},
   "outputs": [
    {
     "data": {
      "text/html": [
       "<div>\n",
       "<style scoped>\n",
       "    .dataframe tbody tr th:only-of-type {\n",
       "        vertical-align: middle;\n",
       "    }\n",
       "\n",
       "    .dataframe tbody tr th {\n",
       "        vertical-align: top;\n",
       "    }\n",
       "\n",
       "    .dataframe thead th {\n",
       "        text-align: right;\n",
       "    }\n",
       "</style>\n",
       "<table border=\"1\" class=\"dataframe\">\n",
       "  <thead>\n",
       "    <tr style=\"text-align: right;\">\n",
       "      <th></th>\n",
       "      <th>email</th>\n",
       "      <th>label</th>\n",
       "    </tr>\n",
       "  </thead>\n",
       "  <tbody>\n",
       "    <tr>\n",
       "      <th>18</th>\n",
       "      <td>congratulations on reaching a new milestone! h...</td>\n",
       "      <td>ham</td>\n",
       "    </tr>\n",
       "    <tr>\n",
       "      <th>19</th>\n",
       "      <td>congratulations! you've been selected for a jo...</td>\n",
       "      <td>spam</td>\n",
       "    </tr>\n",
       "    <tr>\n",
       "      <th>32</th>\n",
       "      <td>congratulations! you've won a free vacation to...</td>\n",
       "      <td>spam</td>\n",
       "    </tr>\n",
       "    <tr>\n",
       "      <th>48</th>\n",
       "      <td>congratulations! you've won a free trip to eur...</td>\n",
       "      <td>spam</td>\n",
       "    </tr>\n",
       "    <tr>\n",
       "      <th>67</th>\n",
       "      <td>congratulations! you're our lucky winner of th...</td>\n",
       "      <td>spam</td>\n",
       "    </tr>\n",
       "    <tr>\n",
       "      <th>79</th>\n",
       "      <td>congratulations! you're the lucky winner of ou...</td>\n",
       "      <td>spam</td>\n",
       "    </tr>\n",
       "    <tr>\n",
       "      <th>100</th>\n",
       "      <td>congratulations! you're the winner of our dail...</td>\n",
       "      <td>spam</td>\n",
       "    </tr>\n",
       "    <tr>\n",
       "      <th>104</th>\n",
       "      <td>congratulations! you've been selected for a fr...</td>\n",
       "      <td>spam</td>\n",
       "    </tr>\n",
       "    <tr>\n",
       "      <th>105</th>\n",
       "      <td>congratulations! you've been selected for a fr...</td>\n",
       "      <td>spam</td>\n",
       "    </tr>\n",
       "    <tr>\n",
       "      <th>110</th>\n",
       "      <td>congratulations! you're the winner of our dail...</td>\n",
       "      <td>spam</td>\n",
       "    </tr>\n",
       "    <tr>\n",
       "      <th>128</th>\n",
       "      <td>congratulations on your recent achievement! ke...</td>\n",
       "      <td>ham</td>\n",
       "    </tr>\n",
       "    <tr>\n",
       "      <th>132</th>\n",
       "      <td>congratulations! you're the lucky winner of ou...</td>\n",
       "      <td>spam</td>\n",
       "    </tr>\n",
       "    <tr>\n",
       "      <th>149</th>\n",
       "      <td>congratulations on your recent purchase! here'...</td>\n",
       "      <td>ham</td>\n",
       "    </tr>\n",
       "    <tr>\n",
       "      <th>167</th>\n",
       "      <td>congratulations! you've been selected for a sp...</td>\n",
       "      <td>ham</td>\n",
       "    </tr>\n",
       "    <tr>\n",
       "      <th>169</th>\n",
       "      <td>congratulations on your recent purchase! here'...</td>\n",
       "      <td>ham</td>\n",
       "    </tr>\n",
       "    <tr>\n",
       "      <th>172</th>\n",
       "      <td>congratulations! you've won a free trip to eur...</td>\n",
       "      <td>spam</td>\n",
       "    </tr>\n",
       "  </tbody>\n",
       "</table>\n",
       "</div>"
      ],
      "text/plain": [
       "                                                 email label\n",
       "18   congratulations on reaching a new milestone! h...   ham\n",
       "19   congratulations! you've been selected for a jo...  spam\n",
       "32   congratulations! you've won a free vacation to...  spam\n",
       "48   congratulations! you've won a free trip to eur...  spam\n",
       "67   congratulations! you're our lucky winner of th...  spam\n",
       "79   congratulations! you're the lucky winner of ou...  spam\n",
       "100  congratulations! you're the winner of our dail...  spam\n",
       "104  congratulations! you've been selected for a fr...  spam\n",
       "105  congratulations! you've been selected for a fr...  spam\n",
       "110  congratulations! you're the winner of our dail...  spam\n",
       "128  congratulations on your recent achievement! ke...   ham\n",
       "132  congratulations! you're the lucky winner of ou...  spam\n",
       "149  congratulations on your recent purchase! here'...   ham\n",
       "167  congratulations! you've been selected for a sp...   ham\n",
       "169  congratulations on your recent purchase! here'...   ham\n",
       "172  congratulations! you've won a free trip to eur...  spam"
      ]
     },
     "execution_count": 35,
     "metadata": {},
     "output_type": "execute_result"
    }
   ],
   "source": [
    "df.loc[df['count_congratulation']==1,['email','label']]"
   ]
  },
  {
   "cell_type": "code",
   "execution_count": 36,
   "metadata": {},
   "outputs": [],
   "source": [
    "df['count_claim']=df['email'].apply(lambda x: 1 if \"claim\" in x else 0)"
   ]
  },
  {
   "cell_type": "code",
   "execution_count": 37,
   "metadata": {},
   "outputs": [
    {
     "data": {
      "text/plain": [
       "count_claim\n",
       "0    153\n",
       "1     26\n",
       "Name: count, dtype: int64"
      ]
     },
     "execution_count": 37,
     "metadata": {},
     "output_type": "execute_result"
    }
   ],
   "source": [
    "df['count_claim'].value_counts()"
   ]
  },
  {
   "cell_type": "code",
   "execution_count": 38,
   "metadata": {},
   "outputs": [
    {
     "data": {
      "text/html": [
       "<div>\n",
       "<style scoped>\n",
       "    .dataframe tbody tr th:only-of-type {\n",
       "        vertical-align: middle;\n",
       "    }\n",
       "\n",
       "    .dataframe tbody tr th {\n",
       "        vertical-align: top;\n",
       "    }\n",
       "\n",
       "    .dataframe thead th {\n",
       "        text-align: right;\n",
       "    }\n",
       "</style>\n",
       "<table border=\"1\" class=\"dataframe\">\n",
       "  <thead>\n",
       "    <tr style=\"text-align: right;\">\n",
       "      <th></th>\n",
       "      <th>email</th>\n",
       "      <th>label</th>\n",
       "    </tr>\n",
       "  </thead>\n",
       "  <tbody>\n",
       "    <tr>\n",
       "      <th>9</th>\n",
       "      <td>you've been chosen for a free iphone. click he...</td>\n",
       "      <td>spam</td>\n",
       "    </tr>\n",
       "    <tr>\n",
       "      <th>16</th>\n",
       "      <td>you're a winner! click here to claim your excl...</td>\n",
       "      <td>spam</td>\n",
       "    </tr>\n",
       "    <tr>\n",
       "      <th>24</th>\n",
       "      <td>you've won a luxury car! click here to claim y...</td>\n",
       "      <td>spam</td>\n",
       "    </tr>\n",
       "    <tr>\n",
       "      <th>32</th>\n",
       "      <td>congratulations! you've won a free vacation to...</td>\n",
       "      <td>spam</td>\n",
       "    </tr>\n",
       "    <tr>\n",
       "      <th>47</th>\n",
       "      <td>you've been selected for a free iphone x. clic...</td>\n",
       "      <td>spam</td>\n",
       "    </tr>\n",
       "    <tr>\n",
       "      <th>48</th>\n",
       "      <td>congratulations! you've won a free trip to eur...</td>\n",
       "      <td>spam</td>\n",
       "    </tr>\n",
       "    <tr>\n",
       "      <th>50</th>\n",
       "      <td>you've been selected for a special prize. clic...</td>\n",
       "      <td>spam</td>\n",
       "    </tr>\n",
       "    <tr>\n",
       "      <th>54</th>\n",
       "      <td>you've won a luxury car! click here to claim y...</td>\n",
       "      <td>spam</td>\n",
       "    </tr>\n",
       "    <tr>\n",
       "      <th>65</th>\n",
       "      <td>you've been selected for a free iphone x. clic...</td>\n",
       "      <td>spam</td>\n",
       "    </tr>\n",
       "    <tr>\n",
       "      <th>67</th>\n",
       "      <td>congratulations! you're our lucky winner of th...</td>\n",
       "      <td>spam</td>\n",
       "    </tr>\n",
       "    <tr>\n",
       "      <th>76</th>\n",
       "      <td>claim your prize now! click here to confirm yo...</td>\n",
       "      <td>spam</td>\n",
       "    </tr>\n",
       "    <tr>\n",
       "      <th>79</th>\n",
       "      <td>congratulations! you're the lucky winner of ou...</td>\n",
       "      <td>spam</td>\n",
       "    </tr>\n",
       "    <tr>\n",
       "      <th>89</th>\n",
       "      <td>you've won a luxury cruise! click here to clai...</td>\n",
       "      <td>spam</td>\n",
       "    </tr>\n",
       "    <tr>\n",
       "      <th>92</th>\n",
       "      <td>you've won a shopping spree! click here to cla...</td>\n",
       "      <td>spam</td>\n",
       "    </tr>\n",
       "    <tr>\n",
       "      <th>100</th>\n",
       "      <td>congratulations! you're the winner of our dail...</td>\n",
       "      <td>spam</td>\n",
       "    </tr>\n",
       "    <tr>\n",
       "      <th>110</th>\n",
       "      <td>congratulations! you're the winner of our dail...</td>\n",
       "      <td>spam</td>\n",
       "    </tr>\n",
       "    <tr>\n",
       "      <th>111</th>\n",
       "      <td>claim your prize now! click here to confirm yo...</td>\n",
       "      <td>spam</td>\n",
       "    </tr>\n",
       "    <tr>\n",
       "      <th>115</th>\n",
       "      <td>you're our lucky winner! click here to claim y...</td>\n",
       "      <td>spam</td>\n",
       "    </tr>\n",
       "    <tr>\n",
       "      <th>129</th>\n",
       "      <td>claim your inheritance now! click here to acce...</td>\n",
       "      <td>spam</td>\n",
       "    </tr>\n",
       "    <tr>\n",
       "      <th>132</th>\n",
       "      <td>congratulations! you're the lucky winner of ou...</td>\n",
       "      <td>spam</td>\n",
       "    </tr>\n",
       "    <tr>\n",
       "      <th>145</th>\n",
       "      <td>you've won a shopping spree! click here to cla...</td>\n",
       "      <td>spam</td>\n",
       "    </tr>\n",
       "    <tr>\n",
       "      <th>148</th>\n",
       "      <td>you've won a lottery! click here to claim your...</td>\n",
       "      <td>spam</td>\n",
       "    </tr>\n",
       "    <tr>\n",
       "      <th>160</th>\n",
       "      <td>you've won a luxury cruise! click here to clai...</td>\n",
       "      <td>spam</td>\n",
       "    </tr>\n",
       "    <tr>\n",
       "      <th>163</th>\n",
       "      <td>you've won a shopping spree! click here to cla...</td>\n",
       "      <td>spam</td>\n",
       "    </tr>\n",
       "    <tr>\n",
       "      <th>171</th>\n",
       "      <td>you've been chosen for a free iphone. click he...</td>\n",
       "      <td>spam</td>\n",
       "    </tr>\n",
       "    <tr>\n",
       "      <th>172</th>\n",
       "      <td>congratulations! you've won a free trip to eur...</td>\n",
       "      <td>spam</td>\n",
       "    </tr>\n",
       "  </tbody>\n",
       "</table>\n",
       "</div>"
      ],
      "text/plain": [
       "                                                 email label\n",
       "9    you've been chosen for a free iphone. click he...  spam\n",
       "16   you're a winner! click here to claim your excl...  spam\n",
       "24   you've won a luxury car! click here to claim y...  spam\n",
       "32   congratulations! you've won a free vacation to...  spam\n",
       "47   you've been selected for a free iphone x. clic...  spam\n",
       "48   congratulations! you've won a free trip to eur...  spam\n",
       "50   you've been selected for a special prize. clic...  spam\n",
       "54   you've won a luxury car! click here to claim y...  spam\n",
       "65   you've been selected for a free iphone x. clic...  spam\n",
       "67   congratulations! you're our lucky winner of th...  spam\n",
       "76   claim your prize now! click here to confirm yo...  spam\n",
       "79   congratulations! you're the lucky winner of ou...  spam\n",
       "89   you've won a luxury cruise! click here to clai...  spam\n",
       "92   you've won a shopping spree! click here to cla...  spam\n",
       "100  congratulations! you're the winner of our dail...  spam\n",
       "110  congratulations! you're the winner of our dail...  spam\n",
       "111  claim your prize now! click here to confirm yo...  spam\n",
       "115  you're our lucky winner! click here to claim y...  spam\n",
       "129  claim your inheritance now! click here to acce...  spam\n",
       "132  congratulations! you're the lucky winner of ou...  spam\n",
       "145  you've won a shopping spree! click here to cla...  spam\n",
       "148  you've won a lottery! click here to claim your...  spam\n",
       "160  you've won a luxury cruise! click here to clai...  spam\n",
       "163  you've won a shopping spree! click here to cla...  spam\n",
       "171  you've been chosen for a free iphone. click he...  spam\n",
       "172  congratulations! you've won a free trip to eur...  spam"
      ]
     },
     "execution_count": 38,
     "metadata": {},
     "output_type": "execute_result"
    }
   ],
   "source": [
    "df.loc[df['count_claim']==1,['email','label']]"
   ]
  },
  {
   "cell_type": "code",
   "execution_count": 39,
   "metadata": {},
   "outputs": [],
   "source": [
    "df['count_lucky']=df['email'].apply(lambda x : 1 if \"lucky\" in x else 0)"
   ]
  },
  {
   "cell_type": "code",
   "execution_count": 40,
   "metadata": {},
   "outputs": [
    {
     "data": {
      "text/plain": [
       "count_lucky\n",
       "0    175\n",
       "1      4\n",
       "Name: count, dtype: int64"
      ]
     },
     "execution_count": 40,
     "metadata": {},
     "output_type": "execute_result"
    }
   ],
   "source": [
    "df['count_lucky'].value_counts()"
   ]
  },
  {
   "cell_type": "code",
   "execution_count": 41,
   "metadata": {},
   "outputs": [],
   "source": [
    "df['count_acc']=df['email'].apply(lambda x: 1 if 'account' in x else 0)"
   ]
  },
  {
   "cell_type": "code",
   "execution_count": 42,
   "metadata": {},
   "outputs": [],
   "source": [
    "df['count_chosen']=df['email'].apply(lambda x : 1 if \"chosen\" in x else 0)"
   ]
  },
  {
   "cell_type": "code",
   "execution_count": 43,
   "metadata": {},
   "outputs": [
    {
     "data": {
      "text/plain": [
       "count_chosen\n",
       "0    177\n",
       "1      2\n",
       "Name: count, dtype: int64"
      ]
     },
     "execution_count": 43,
     "metadata": {},
     "output_type": "execute_result"
    }
   ],
   "source": [
    "df['count_chosen'].value_counts()"
   ]
  },
  {
   "cell_type": "code",
   "execution_count": 44,
   "metadata": {},
   "outputs": [],
   "source": [
    "st = set(stopwords.words('english'))\n",
    "\n",
    "\n",
    "\n",
    "def c_stopword(x):\n",
    "    wr = []\n",
    "    for word in x.split():\n",
    "        if word.lower() in st:  \n",
    "            wr.append(word)\n",
    "    return len(wr)\n",
    "df['count_stopwords']=df['email'].apply(c_stopword)\n",
    "\n"
   ]
  },
  {
   "cell_type": "code",
   "execution_count": 45,
   "metadata": {},
   "outputs": [
    {
     "data": {
      "text/plain": [
       "\"we're hiring! check out our career opportunities and join our dynamic team.\""
      ]
     },
     "execution_count": 45,
     "metadata": {},
     "output_type": "execute_result"
    }
   ],
   "source": [
    "df['email'][2]"
   ]
  },
  {
   "cell_type": "code",
   "execution_count": 46,
   "metadata": {},
   "outputs": [],
   "source": [
    "df['count_sent']=df['email'].apply(lambda x: len(sent_tokenize(x)))\n"
   ]
  },
  {
   "cell_type": "code",
   "execution_count": 47,
   "metadata": {},
   "outputs": [
    {
     "data": {
      "text/html": [
       "<div>\n",
       "<style scoped>\n",
       "    .dataframe tbody tr th:only-of-type {\n",
       "        vertical-align: middle;\n",
       "    }\n",
       "\n",
       "    .dataframe tbody tr th {\n",
       "        vertical-align: top;\n",
       "    }\n",
       "\n",
       "    .dataframe thead th {\n",
       "        text-align: right;\n",
       "    }\n",
       "</style>\n",
       "<table border=\"1\" class=\"dataframe\">\n",
       "  <thead>\n",
       "    <tr style=\"text-align: right;\">\n",
       "      <th></th>\n",
       "      <th>email</th>\n",
       "      <th>label</th>\n",
       "      <th>total_characters</th>\n",
       "      <th>total_words</th>\n",
       "      <th>count_offer</th>\n",
       "      <th>count_act</th>\n",
       "      <th>get_limited_time</th>\n",
       "      <th>count_click</th>\n",
       "      <th>count_won</th>\n",
       "      <th>count_lottery</th>\n",
       "      <th>count_congratulation</th>\n",
       "      <th>count_claim</th>\n",
       "      <th>count_lucky</th>\n",
       "      <th>count_acc</th>\n",
       "      <th>count_chosen</th>\n",
       "      <th>count_stopwords</th>\n",
       "      <th>count_sent</th>\n",
       "    </tr>\n",
       "  </thead>\n",
       "  <tbody>\n",
       "    <tr>\n",
       "      <th>0</th>\n",
       "      <td>upgrade to our premium plan for exclusive acce...</td>\n",
       "      <td>ham</td>\n",
       "      <td>81</td>\n",
       "      <td>13</td>\n",
       "      <td>0</td>\n",
       "      <td>0</td>\n",
       "      <td>0</td>\n",
       "      <td>0</td>\n",
       "      <td>0</td>\n",
       "      <td>0</td>\n",
       "      <td>0</td>\n",
       "      <td>0</td>\n",
       "      <td>0</td>\n",
       "      <td>0</td>\n",
       "      <td>0</td>\n",
       "      <td>5</td>\n",
       "      <td>1</td>\n",
       "    </tr>\n",
       "    <tr>\n",
       "      <th>1</th>\n",
       "      <td>happy holidays from our team! wishing you joy ...</td>\n",
       "      <td>ham</td>\n",
       "      <td>73</td>\n",
       "      <td>12</td>\n",
       "      <td>0</td>\n",
       "      <td>0</td>\n",
       "      <td>0</td>\n",
       "      <td>0</td>\n",
       "      <td>0</td>\n",
       "      <td>0</td>\n",
       "      <td>0</td>\n",
       "      <td>0</td>\n",
       "      <td>0</td>\n",
       "      <td>0</td>\n",
       "      <td>0</td>\n",
       "      <td>5</td>\n",
       "      <td>2</td>\n",
       "    </tr>\n",
       "    <tr>\n",
       "      <th>2</th>\n",
       "      <td>we're hiring! check out our career opportuniti...</td>\n",
       "      <td>ham</td>\n",
       "      <td>75</td>\n",
       "      <td>12</td>\n",
       "      <td>0</td>\n",
       "      <td>0</td>\n",
       "      <td>0</td>\n",
       "      <td>0</td>\n",
       "      <td>0</td>\n",
       "      <td>0</td>\n",
       "      <td>0</td>\n",
       "      <td>0</td>\n",
       "      <td>0</td>\n",
       "      <td>0</td>\n",
       "      <td>0</td>\n",
       "      <td>5</td>\n",
       "      <td>2</td>\n",
       "    </tr>\n",
       "    <tr>\n",
       "      <th>3</th>\n",
       "      <td>your amazon account has been locked. click her...</td>\n",
       "      <td>spam</td>\n",
       "      <td>83</td>\n",
       "      <td>13</td>\n",
       "      <td>0</td>\n",
       "      <td>0</td>\n",
       "      <td>0</td>\n",
       "      <td>1</td>\n",
       "      <td>0</td>\n",
       "      <td>0</td>\n",
       "      <td>0</td>\n",
       "      <td>0</td>\n",
       "      <td>0</td>\n",
       "      <td>1</td>\n",
       "      <td>0</td>\n",
       "      <td>6</td>\n",
       "      <td>2</td>\n",
       "    </tr>\n",
       "  </tbody>\n",
       "</table>\n",
       "</div>"
      ],
      "text/plain": [
       "                                               email label  total_characters  \\\n",
       "0  upgrade to our premium plan for exclusive acce...   ham                81   \n",
       "1  happy holidays from our team! wishing you joy ...   ham                73   \n",
       "2  we're hiring! check out our career opportuniti...   ham                75   \n",
       "3  your amazon account has been locked. click her...  spam                83   \n",
       "\n",
       "   total_words  count_offer  count_act  get_limited_time  count_click  \\\n",
       "0           13            0          0                 0            0   \n",
       "1           12            0          0                 0            0   \n",
       "2           12            0          0                 0            0   \n",
       "3           13            0          0                 0            1   \n",
       "\n",
       "   count_won  count_lottery  count_congratulation  count_claim  count_lucky  \\\n",
       "0          0              0                     0            0            0   \n",
       "1          0              0                     0            0            0   \n",
       "2          0              0                     0            0            0   \n",
       "3          0              0                     0            0            0   \n",
       "\n",
       "   count_acc  count_chosen  count_stopwords  count_sent  \n",
       "0          0             0                5           1  \n",
       "1          0             0                5           2  \n",
       "2          0             0                5           2  \n",
       "3          1             0                6           2  "
      ]
     },
     "execution_count": 47,
     "metadata": {},
     "output_type": "execute_result"
    }
   ],
   "source": [
    "df.head(4)"
   ]
  },
  {
   "cell_type": "code",
   "execution_count": 48,
   "metadata": {},
   "outputs": [],
   "source": [
    "ps=PorterStemmer()\n",
    "df['stem_sentence']=df['email'].apply(lambda x: ' '.join(ps.stem(i) for i in word_tokenize(x)))    \n"
   ]
  },
  {
   "cell_type": "code",
   "execution_count": 49,
   "metadata": {},
   "outputs": [
    {
     "data": {
      "text/html": [
       "<div>\n",
       "<style scoped>\n",
       "    .dataframe tbody tr th:only-of-type {\n",
       "        vertical-align: middle;\n",
       "    }\n",
       "\n",
       "    .dataframe tbody tr th {\n",
       "        vertical-align: top;\n",
       "    }\n",
       "\n",
       "    .dataframe thead th {\n",
       "        text-align: right;\n",
       "    }\n",
       "</style>\n",
       "<table border=\"1\" class=\"dataframe\">\n",
       "  <thead>\n",
       "    <tr style=\"text-align: right;\">\n",
       "      <th></th>\n",
       "      <th>email</th>\n",
       "      <th>label</th>\n",
       "      <th>total_characters</th>\n",
       "      <th>total_words</th>\n",
       "      <th>count_offer</th>\n",
       "      <th>count_act</th>\n",
       "      <th>get_limited_time</th>\n",
       "      <th>count_click</th>\n",
       "      <th>count_won</th>\n",
       "      <th>count_lottery</th>\n",
       "      <th>count_congratulation</th>\n",
       "      <th>count_claim</th>\n",
       "      <th>count_lucky</th>\n",
       "      <th>count_acc</th>\n",
       "      <th>count_chosen</th>\n",
       "      <th>count_stopwords</th>\n",
       "      <th>count_sent</th>\n",
       "      <th>stem_sentence</th>\n",
       "    </tr>\n",
       "  </thead>\n",
       "  <tbody>\n",
       "    <tr>\n",
       "      <th>0</th>\n",
       "      <td>upgrade to our premium plan for exclusive acce...</td>\n",
       "      <td>ham</td>\n",
       "      <td>81</td>\n",
       "      <td>13</td>\n",
       "      <td>0</td>\n",
       "      <td>0</td>\n",
       "      <td>0</td>\n",
       "      <td>0</td>\n",
       "      <td>0</td>\n",
       "      <td>0</td>\n",
       "      <td>0</td>\n",
       "      <td>0</td>\n",
       "      <td>0</td>\n",
       "      <td>0</td>\n",
       "      <td>0</td>\n",
       "      <td>5</td>\n",
       "      <td>1</td>\n",
       "      <td>upgrad to our premium plan for exclus access t...</td>\n",
       "    </tr>\n",
       "    <tr>\n",
       "      <th>1</th>\n",
       "      <td>happy holidays from our team! wishing you joy ...</td>\n",
       "      <td>ham</td>\n",
       "      <td>73</td>\n",
       "      <td>12</td>\n",
       "      <td>0</td>\n",
       "      <td>0</td>\n",
       "      <td>0</td>\n",
       "      <td>0</td>\n",
       "      <td>0</td>\n",
       "      <td>0</td>\n",
       "      <td>0</td>\n",
       "      <td>0</td>\n",
       "      <td>0</td>\n",
       "      <td>0</td>\n",
       "      <td>0</td>\n",
       "      <td>5</td>\n",
       "      <td>2</td>\n",
       "      <td>happi holiday from our team ! wish you joy and...</td>\n",
       "    </tr>\n",
       "    <tr>\n",
       "      <th>2</th>\n",
       "      <td>we're hiring! check out our career opportuniti...</td>\n",
       "      <td>ham</td>\n",
       "      <td>75</td>\n",
       "      <td>12</td>\n",
       "      <td>0</td>\n",
       "      <td>0</td>\n",
       "      <td>0</td>\n",
       "      <td>0</td>\n",
       "      <td>0</td>\n",
       "      <td>0</td>\n",
       "      <td>0</td>\n",
       "      <td>0</td>\n",
       "      <td>0</td>\n",
       "      <td>0</td>\n",
       "      <td>0</td>\n",
       "      <td>5</td>\n",
       "      <td>2</td>\n",
       "      <td>we 're hire ! check out our career opportun an...</td>\n",
       "    </tr>\n",
       "  </tbody>\n",
       "</table>\n",
       "</div>"
      ],
      "text/plain": [
       "                                               email label  total_characters  \\\n",
       "0  upgrade to our premium plan for exclusive acce...   ham                81   \n",
       "1  happy holidays from our team! wishing you joy ...   ham                73   \n",
       "2  we're hiring! check out our career opportuniti...   ham                75   \n",
       "\n",
       "   total_words  count_offer  count_act  get_limited_time  count_click  \\\n",
       "0           13            0          0                 0            0   \n",
       "1           12            0          0                 0            0   \n",
       "2           12            0          0                 0            0   \n",
       "\n",
       "   count_won  count_lottery  count_congratulation  count_claim  count_lucky  \\\n",
       "0          0              0                     0            0            0   \n",
       "1          0              0                     0            0            0   \n",
       "2          0              0                     0            0            0   \n",
       "\n",
       "   count_acc  count_chosen  count_stopwords  count_sent  \\\n",
       "0          0             0                5           1   \n",
       "1          0             0                5           2   \n",
       "2          0             0                5           2   \n",
       "\n",
       "                                       stem_sentence  \n",
       "0  upgrad to our premium plan for exclus access t...  \n",
       "1  happi holiday from our team ! wish you joy and...  \n",
       "2  we 're hire ! check out our career opportun an...  "
      ]
     },
     "execution_count": 49,
     "metadata": {},
     "output_type": "execute_result"
    }
   ],
   "source": [
    "df.head(3)"
   ]
  },
  {
   "cell_type": "code",
   "execution_count": 50,
   "metadata": {},
   "outputs": [
    {
     "data": {
      "text/plain": [
       "'upgrade to our premium plan for exclusive access to premium content and features.'"
      ]
     },
     "execution_count": 50,
     "metadata": {},
     "output_type": "execute_result"
    }
   ],
   "source": [
    "df['email'][0]"
   ]
  },
  {
   "cell_type": "code",
   "execution_count": 51,
   "metadata": {},
   "outputs": [],
   "source": [
    "def remove_punctuation(text):\n",
    "    translator = str.maketrans('', '', s.punctuation)\n",
    "    return text.translate(translator)\n",
    "df['stem_sentence']=df['stem_sentence'].apply(remove_punctuation)"
   ]
  },
  {
   "cell_type": "code",
   "execution_count": 52,
   "metadata": {},
   "outputs": [],
   "source": [
    "def remove_stwrd(x):\n",
    "    l=[]\n",
    "    for i in x.split():\n",
    "        if i.lower() not in  st:\n",
    "            l.append(i)\n",
    "    return \" \".join(l)        \n"
   ]
  },
  {
   "cell_type": "code",
   "execution_count": 53,
   "metadata": {},
   "outputs": [],
   "source": [
    "df['stem_sentence']=df['stem_sentence'].apply(remove_stwrd)"
   ]
  },
  {
   "cell_type": "code",
   "execution_count": 54,
   "metadata": {},
   "outputs": [
    {
     "data": {
      "text/plain": [
       "'upgrad premium plan exclus access premium content featur'"
      ]
     },
     "execution_count": 54,
     "metadata": {},
     "output_type": "execute_result"
    }
   ],
   "source": [
    "df['stem_sentence'][0]"
   ]
  },
  {
   "cell_type": "code",
   "execution_count": 55,
   "metadata": {},
   "outputs": [],
   "source": [
    "wc=WordCloud(width=500,height=500,min_font_size=10,background_color='black')"
   ]
  },
  {
   "cell_type": "code",
   "execution_count": 56,
   "metadata": {},
   "outputs": [],
   "source": [
    "spam_wc=wc.generate(df[df['label']=='spam']['stem_sentence'].str.cat(sep=\" \"))"
   ]
  },
  {
   "cell_type": "code",
   "execution_count": 57,
   "metadata": {},
   "outputs": [
    {
     "data": {
      "application/vnd.plotly.v1+json": {
       "config": {
        "plotlyServerURL": "https://plot.ly"
       },
       "data": [
        {
         "hovertemplate": "x: %{x}<br>y: %{y}<br>color: [%{z[0]}, %{z[1]}, %{z[2]}]<extra></extra>",
         "name": "0",
         "source": "data:image/png;base64,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",
         "type": "image",
         "xaxis": "x",
         "yaxis": "y"
        }
       ],
       "layout": {
        "font": {
         "color": "yellow"
        },
        "margin": {
         "t": 60
        },
        "paper_bgcolor": "black",
        "template": {
         "data": {
          "bar": [
           {
            "error_x": {
             "color": "#2a3f5f"
            },
            "error_y": {
             "color": "#2a3f5f"
            },
            "marker": {
             "line": {
              "color": "#E5ECF6",
              "width": 0.5
             },
             "pattern": {
              "fillmode": "overlay",
              "size": 10,
              "solidity": 0.2
             }
            },
            "type": "bar"
           }
          ],
          "barpolar": [
           {
            "marker": {
             "line": {
              "color": "#E5ECF6",
              "width": 0.5
             },
             "pattern": {
              "fillmode": "overlay",
              "size": 10,
              "solidity": 0.2
             }
            },
            "type": "barpolar"
           }
          ],
          "carpet": [
           {
            "aaxis": {
             "endlinecolor": "#2a3f5f",
             "gridcolor": "white",
             "linecolor": "white",
             "minorgridcolor": "white",
             "startlinecolor": "#2a3f5f"
            },
            "baxis": {
             "endlinecolor": "#2a3f5f",
             "gridcolor": "white",
             "linecolor": "white",
             "minorgridcolor": "white",
             "startlinecolor": "#2a3f5f"
            },
            "type": "carpet"
           }
          ],
          "choropleth": [
           {
            "colorbar": {
             "outlinewidth": 0,
             "ticks": ""
            },
            "type": "choropleth"
           }
          ],
          "contour": [
           {
            "colorbar": {
             "outlinewidth": 0,
             "ticks": ""
            },
            "colorscale": [
             [
              0,
              "#0d0887"
             ],
             [
              0.1111111111111111,
              "#46039f"
             ],
             [
              0.2222222222222222,
              "#7201a8"
             ],
             [
              0.3333333333333333,
              "#9c179e"
             ],
             [
              0.4444444444444444,
              "#bd3786"
             ],
             [
              0.5555555555555556,
              "#d8576b"
             ],
             [
              0.6666666666666666,
              "#ed7953"
             ],
             [
              0.7777777777777778,
              "#fb9f3a"
             ],
             [
              0.8888888888888888,
              "#fdca26"
             ],
             [
              1,
              "#f0f921"
             ]
            ],
            "type": "contour"
           }
          ],
          "contourcarpet": [
           {
            "colorbar": {
             "outlinewidth": 0,
             "ticks": ""
            },
            "type": "contourcarpet"
           }
          ],
          "heatmap": [
           {
            "colorbar": {
             "outlinewidth": 0,
             "ticks": ""
            },
            "colorscale": [
             [
              0,
              "#0d0887"
             ],
             [
              0.1111111111111111,
              "#46039f"
             ],
             [
              0.2222222222222222,
              "#7201a8"
             ],
             [
              0.3333333333333333,
              "#9c179e"
             ],
             [
              0.4444444444444444,
              "#bd3786"
             ],
             [
              0.5555555555555556,
              "#d8576b"
             ],
             [
              0.6666666666666666,
              "#ed7953"
             ],
             [
              0.7777777777777778,
              "#fb9f3a"
             ],
             [
              0.8888888888888888,
              "#fdca26"
             ],
             [
              1,
              "#f0f921"
             ]
            ],
            "type": "heatmap"
           }
          ],
          "histogram": [
           {
            "marker": {
             "pattern": {
              "fillmode": "overlay",
              "size": 10,
              "solidity": 0.2
             }
            },
            "type": "histogram"
           }
          ],
          "histogram2d": [
           {
            "colorbar": {
             "outlinewidth": 0,
             "ticks": ""
            },
            "colorscale": [
             [
              0,
              "#0d0887"
             ],
             [
              0.1111111111111111,
              "#46039f"
             ],
             [
              0.2222222222222222,
              "#7201a8"
             ],
             [
              0.3333333333333333,
              "#9c179e"
             ],
             [
              0.4444444444444444,
              "#bd3786"
             ],
             [
              0.5555555555555556,
              "#d8576b"
             ],
             [
              0.6666666666666666,
              "#ed7953"
             ],
             [
              0.7777777777777778,
              "#fb9f3a"
             ],
             [
              0.8888888888888888,
              "#fdca26"
             ],
             [
              1,
              "#f0f921"
             ]
            ],
            "type": "histogram2d"
           }
          ],
          "histogram2dcontour": [
           {
            "colorbar": {
             "outlinewidth": 0,
             "ticks": ""
            },
            "colorscale": [
             [
              0,
              "#0d0887"
             ],
             [
              0.1111111111111111,
              "#46039f"
             ],
             [
              0.2222222222222222,
              "#7201a8"
             ],
             [
              0.3333333333333333,
              "#9c179e"
             ],
             [
              0.4444444444444444,
              "#bd3786"
             ],
             [
              0.5555555555555556,
              "#d8576b"
             ],
             [
              0.6666666666666666,
              "#ed7953"
             ],
             [
              0.7777777777777778,
              "#fb9f3a"
             ],
             [
              0.8888888888888888,
              "#fdca26"
             ],
             [
              1,
              "#f0f921"
             ]
            ],
            "type": "histogram2dcontour"
           }
          ],
          "mesh3d": [
           {
            "colorbar": {
             "outlinewidth": 0,
             "ticks": ""
            },
            "type": "mesh3d"
           }
          ],
          "parcoords": [
           {
            "line": {
             "colorbar": {
              "outlinewidth": 0,
              "ticks": ""
             }
            },
            "type": "parcoords"
           }
          ],
          "pie": [
           {
            "automargin": true,
            "type": "pie"
           }
          ],
          "scatter": [
           {
            "fillpattern": {
             "fillmode": "overlay",
             "size": 10,
             "solidity": 0.2
            },
            "type": "scatter"
           }
          ],
          "scatter3d": [
           {
            "line": {
             "colorbar": {
              "outlinewidth": 0,
              "ticks": ""
             }
            },
            "marker": {
             "colorbar": {
              "outlinewidth": 0,
              "ticks": ""
             }
            },
            "type": "scatter3d"
           }
          ],
          "scattercarpet": [
           {
            "marker": {
             "colorbar": {
              "outlinewidth": 0,
              "ticks": ""
             }
            },
            "type": "scattercarpet"
           }
          ],
          "scattergeo": [
           {
            "marker": {
             "colorbar": {
              "outlinewidth": 0,
              "ticks": ""
             }
            },
            "type": "scattergeo"
           }
          ],
          "scattergl": [
           {
            "marker": {
             "colorbar": {
              "outlinewidth": 0,
              "ticks": ""
             }
            },
            "type": "scattergl"
           }
          ],
          "scattermap": [
           {
            "marker": {
             "colorbar": {
              "outlinewidth": 0,
              "ticks": ""
             }
            },
            "type": "scattermap"
           }
          ],
          "scattermapbox": [
           {
            "marker": {
             "colorbar": {
              "outlinewidth": 0,
              "ticks": ""
             }
            },
            "type": "scattermapbox"
           }
          ],
          "scatterpolar": [
           {
            "marker": {
             "colorbar": {
              "outlinewidth": 0,
              "ticks": ""
             }
            },
            "type": "scatterpolar"
           }
          ],
          "scatterpolargl": [
           {
            "marker": {
             "colorbar": {
              "outlinewidth": 0,
              "ticks": ""
             }
            },
            "type": "scatterpolargl"
           }
          ],
          "scatterternary": [
           {
            "marker": {
             "colorbar": {
              "outlinewidth": 0,
              "ticks": ""
             }
            },
            "type": "scatterternary"
           }
          ],
          "surface": [
           {
            "colorbar": {
             "outlinewidth": 0,
             "ticks": ""
            },
            "colorscale": [
             [
              0,
              "#0d0887"
             ],
             [
              0.1111111111111111,
              "#46039f"
             ],
             [
              0.2222222222222222,
              "#7201a8"
             ],
             [
              0.3333333333333333,
              "#9c179e"
             ],
             [
              0.4444444444444444,
              "#bd3786"
             ],
             [
              0.5555555555555556,
              "#d8576b"
             ],
             [
              0.6666666666666666,
              "#ed7953"
             ],
             [
              0.7777777777777778,
              "#fb9f3a"
             ],
             [
              0.8888888888888888,
              "#fdca26"
             ],
             [
              1,
              "#f0f921"
             ]
            ],
            "type": "surface"
           }
          ],
          "table": [
           {
            "cells": {
             "fill": {
              "color": "#EBF0F8"
             },
             "line": {
              "color": "white"
             }
            },
            "header": {
             "fill": {
              "color": "#C8D4E3"
             },
             "line": {
              "color": "white"
             }
            },
            "type": "table"
           }
          ]
         },
         "layout": {
          "annotationdefaults": {
           "arrowcolor": "#2a3f5f",
           "arrowhead": 0,
           "arrowwidth": 1
          },
          "autotypenumbers": "strict",
          "coloraxis": {
           "colorbar": {
            "outlinewidth": 0,
            "ticks": ""
           }
          },
          "colorscale": {
           "diverging": [
            [
             0,
             "#8e0152"
            ],
            [
             0.1,
             "#c51b7d"
            ],
            [
             0.2,
             "#de77ae"
            ],
            [
             0.3,
             "#f1b6da"
            ],
            [
             0.4,
             "#fde0ef"
            ],
            [
             0.5,
             "#f7f7f7"
            ],
            [
             0.6,
             "#e6f5d0"
            ],
            [
             0.7,
             "#b8e186"
            ],
            [
             0.8,
             "#7fbc41"
            ],
            [
             0.9,
             "#4d9221"
            ],
            [
             1,
             "#276419"
            ]
           ],
           "sequential": [
            [
             0,
             "#0d0887"
            ],
            [
             0.1111111111111111,
             "#46039f"
            ],
            [
             0.2222222222222222,
             "#7201a8"
            ],
            [
             0.3333333333333333,
             "#9c179e"
            ],
            [
             0.4444444444444444,
             "#bd3786"
            ],
            [
             0.5555555555555556,
             "#d8576b"
            ],
            [
             0.6666666666666666,
             "#ed7953"
            ],
            [
             0.7777777777777778,
             "#fb9f3a"
            ],
            [
             0.8888888888888888,
             "#fdca26"
            ],
            [
             1,
             "#f0f921"
            ]
           ],
           "sequentialminus": [
            [
             0,
             "#0d0887"
            ],
            [
             0.1111111111111111,
             "#46039f"
            ],
            [
             0.2222222222222222,
             "#7201a8"
            ],
            [
             0.3333333333333333,
             "#9c179e"
            ],
            [
             0.4444444444444444,
             "#bd3786"
            ],
            [
             0.5555555555555556,
             "#d8576b"
            ],
            [
             0.6666666666666666,
             "#ed7953"
            ],
            [
             0.7777777777777778,
             "#fb9f3a"
            ],
            [
             0.8888888888888888,
             "#fdca26"
            ],
            [
             1,
             "#f0f921"
            ]
           ]
          },
          "colorway": [
           "#636efa",
           "#EF553B",
           "#00cc96",
           "#ab63fa",
           "#FFA15A",
           "#19d3f3",
           "#FF6692",
           "#B6E880",
           "#FF97FF",
           "#FECB52"
          ],
          "font": {
           "color": "#2a3f5f"
          },
          "geo": {
           "bgcolor": "white",
           "lakecolor": "white",
           "landcolor": "#E5ECF6",
           "showlakes": true,
           "showland": true,
           "subunitcolor": "white"
          },
          "hoverlabel": {
           "align": "left"
          },
          "hovermode": "closest",
          "mapbox": {
           "style": "light"
          },
          "paper_bgcolor": "white",
          "plot_bgcolor": "#E5ECF6",
          "polar": {
           "angularaxis": {
            "gridcolor": "white",
            "linecolor": "white",
            "ticks": ""
           },
           "bgcolor": "#E5ECF6",
           "radialaxis": {
            "gridcolor": "white",
            "linecolor": "white",
            "ticks": ""
           }
          },
          "scene": {
           "xaxis": {
            "backgroundcolor": "#E5ECF6",
            "gridcolor": "white",
            "gridwidth": 2,
            "linecolor": "white",
            "showbackground": true,
            "ticks": "",
            "zerolinecolor": "white"
           },
           "yaxis": {
            "backgroundcolor": "#E5ECF6",
            "gridcolor": "white",
            "gridwidth": 2,
            "linecolor": "white",
            "showbackground": true,
            "ticks": "",
            "zerolinecolor": "white"
           },
           "zaxis": {
            "backgroundcolor": "#E5ECF6",
            "gridcolor": "white",
            "gridwidth": 2,
            "linecolor": "white",
            "showbackground": true,
            "ticks": "",
            "zerolinecolor": "white"
           }
          },
          "shapedefaults": {
           "line": {
            "color": "#2a3f5f"
           }
          },
          "ternary": {
           "aaxis": {
            "gridcolor": "white",
            "linecolor": "white",
            "ticks": ""
           },
           "baxis": {
            "gridcolor": "white",
            "linecolor": "white",
            "ticks": ""
           },
           "bgcolor": "#E5ECF6",
           "caxis": {
            "gridcolor": "white",
            "linecolor": "white",
            "ticks": ""
           }
          },
          "title": {
           "x": 0.05
          },
          "xaxis": {
           "automargin": true,
           "gridcolor": "white",
           "linecolor": "white",
           "ticks": "",
           "title": {
            "standoff": 15
           },
           "zerolinecolor": "white",
           "zerolinewidth": 2
          },
          "yaxis": {
           "automargin": true,
           "gridcolor": "white",
           "linecolor": "white",
           "ticks": "",
           "title": {
            "standoff": 15
           },
           "zerolinecolor": "white",
           "zerolinewidth": 2
          }
         }
        },
        "width": 500,
        "xaxis": {
         "anchor": "y",
         "domain": [
          0,
          1
         ]
        },
        "yaxis": {
         "anchor": "x",
         "domain": [
          0,
          1
         ]
        }
       }
      }
     },
     "metadata": {},
     "output_type": "display_data"
    }
   ],
   "source": [
    "\n",
    "fig=px.imshow(spam_wc)\n",
    "fig.update_layout(paper_bgcolor=\"black\",width=500,font=dict(color=\"yellow\"))"
   ]
  },
  {
   "cell_type": "code",
   "execution_count": 58,
   "metadata": {},
   "outputs": [],
   "source": [
    "not_spam_wc=wc.generate(df[df['label']=='ham']['stem_sentence'].str.cat(sep=' '))"
   ]
  },
  {
   "cell_type": "code",
   "execution_count": 59,
   "metadata": {},
   "outputs": [
    {
     "data": {
      "application/vnd.plotly.v1+json": {
       "config": {
        "plotlyServerURL": "https://plot.ly"
       },
       "data": [
        {
         "hovertemplate": "x: %{x}<br>y: %{y}<br>color: [%{z[0]}, %{z[1]}, %{z[2]}]<extra></extra>",
         "name": "0",
         "source": "data:image/png;base64,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",
         "type": "image",
         "xaxis": "x",
         "yaxis": "y"
        }
       ],
       "layout": {
        "font": {
         "color": "yellow"
        },
        "margin": {
         "t": 60
        },
        "paper_bgcolor": "black",
        "template": {
         "data": {
          "bar": [
           {
            "error_x": {
             "color": "#2a3f5f"
            },
            "error_y": {
             "color": "#2a3f5f"
            },
            "marker": {
             "line": {
              "color": "#E5ECF6",
              "width": 0.5
             },
             "pattern": {
              "fillmode": "overlay",
              "size": 10,
              "solidity": 0.2
             }
            },
            "type": "bar"
           }
          ],
          "barpolar": [
           {
            "marker": {
             "line": {
              "color": "#E5ECF6",
              "width": 0.5
             },
             "pattern": {
              "fillmode": "overlay",
              "size": 10,
              "solidity": 0.2
             }
            },
            "type": "barpolar"
           }
          ],
          "carpet": [
           {
            "aaxis": {
             "endlinecolor": "#2a3f5f",
             "gridcolor": "white",
             "linecolor": "white",
             "minorgridcolor": "white",
             "startlinecolor": "#2a3f5f"
            },
            "baxis": {
             "endlinecolor": "#2a3f5f",
             "gridcolor": "white",
             "linecolor": "white",
             "minorgridcolor": "white",
             "startlinecolor": "#2a3f5f"
            },
            "type": "carpet"
           }
          ],
          "choropleth": [
           {
            "colorbar": {
             "outlinewidth": 0,
             "ticks": ""
            },
            "type": "choropleth"
           }
          ],
          "contour": [
           {
            "colorbar": {
             "outlinewidth": 0,
             "ticks": ""
            },
            "colorscale": [
             [
              0,
              "#0d0887"
             ],
             [
              0.1111111111111111,
              "#46039f"
             ],
             [
              0.2222222222222222,
              "#7201a8"
             ],
             [
              0.3333333333333333,
              "#9c179e"
             ],
             [
              0.4444444444444444,
              "#bd3786"
             ],
             [
              0.5555555555555556,
              "#d8576b"
             ],
             [
              0.6666666666666666,
              "#ed7953"
             ],
             [
              0.7777777777777778,
              "#fb9f3a"
             ],
             [
              0.8888888888888888,
              "#fdca26"
             ],
             [
              1,
              "#f0f921"
             ]
            ],
            "type": "contour"
           }
          ],
          "contourcarpet": [
           {
            "colorbar": {
             "outlinewidth": 0,
             "ticks": ""
            },
            "type": "contourcarpet"
           }
          ],
          "heatmap": [
           {
            "colorbar": {
             "outlinewidth": 0,
             "ticks": ""
            },
            "colorscale": [
             [
              0,
              "#0d0887"
             ],
             [
              0.1111111111111111,
              "#46039f"
             ],
             [
              0.2222222222222222,
              "#7201a8"
             ],
             [
              0.3333333333333333,
              "#9c179e"
             ],
             [
              0.4444444444444444,
              "#bd3786"
             ],
             [
              0.5555555555555556,
              "#d8576b"
             ],
             [
              0.6666666666666666,
              "#ed7953"
             ],
             [
              0.7777777777777778,
              "#fb9f3a"
             ],
             [
              0.8888888888888888,
              "#fdca26"
             ],
             [
              1,
              "#f0f921"
             ]
            ],
            "type": "heatmap"
           }
          ],
          "histogram": [
           {
            "marker": {
             "pattern": {
              "fillmode": "overlay",
              "size": 10,
              "solidity": 0.2
             }
            },
            "type": "histogram"
           }
          ],
          "histogram2d": [
           {
            "colorbar": {
             "outlinewidth": 0,
             "ticks": ""
            },
            "colorscale": [
             [
              0,
              "#0d0887"
             ],
             [
              0.1111111111111111,
              "#46039f"
             ],
             [
              0.2222222222222222,
              "#7201a8"
             ],
             [
              0.3333333333333333,
              "#9c179e"
             ],
             [
              0.4444444444444444,
              "#bd3786"
             ],
             [
              0.5555555555555556,
              "#d8576b"
             ],
             [
              0.6666666666666666,
              "#ed7953"
             ],
             [
              0.7777777777777778,
              "#fb9f3a"
             ],
             [
              0.8888888888888888,
              "#fdca26"
             ],
             [
              1,
              "#f0f921"
             ]
            ],
            "type": "histogram2d"
           }
          ],
          "histogram2dcontour": [
           {
            "colorbar": {
             "outlinewidth": 0,
             "ticks": ""
            },
            "colorscale": [
             [
              0,
              "#0d0887"
             ],
             [
              0.1111111111111111,
              "#46039f"
             ],
             [
              0.2222222222222222,
              "#7201a8"
             ],
             [
              0.3333333333333333,
              "#9c179e"
             ],
             [
              0.4444444444444444,
              "#bd3786"
             ],
             [
              0.5555555555555556,
              "#d8576b"
             ],
             [
              0.6666666666666666,
              "#ed7953"
             ],
             [
              0.7777777777777778,
              "#fb9f3a"
             ],
             [
              0.8888888888888888,
              "#fdca26"
             ],
             [
              1,
              "#f0f921"
             ]
            ],
            "type": "histogram2dcontour"
           }
          ],
          "mesh3d": [
           {
            "colorbar": {
             "outlinewidth": 0,
             "ticks": ""
            },
            "type": "mesh3d"
           }
          ],
          "parcoords": [
           {
            "line": {
             "colorbar": {
              "outlinewidth": 0,
              "ticks": ""
             }
            },
            "type": "parcoords"
           }
          ],
          "pie": [
           {
            "automargin": true,
            "type": "pie"
           }
          ],
          "scatter": [
           {
            "fillpattern": {
             "fillmode": "overlay",
             "size": 10,
             "solidity": 0.2
            },
            "type": "scatter"
           }
          ],
          "scatter3d": [
           {
            "line": {
             "colorbar": {
              "outlinewidth": 0,
              "ticks": ""
             }
            },
            "marker": {
             "colorbar": {
              "outlinewidth": 0,
              "ticks": ""
             }
            },
            "type": "scatter3d"
           }
          ],
          "scattercarpet": [
           {
            "marker": {
             "colorbar": {
              "outlinewidth": 0,
              "ticks": ""
             }
            },
            "type": "scattercarpet"
           }
          ],
          "scattergeo": [
           {
            "marker": {
             "colorbar": {
              "outlinewidth": 0,
              "ticks": ""
             }
            },
            "type": "scattergeo"
           }
          ],
          "scattergl": [
           {
            "marker": {
             "colorbar": {
              "outlinewidth": 0,
              "ticks": ""
             }
            },
            "type": "scattergl"
           }
          ],
          "scattermap": [
           {
            "marker": {
             "colorbar": {
              "outlinewidth": 0,
              "ticks": ""
             }
            },
            "type": "scattermap"
           }
          ],
          "scattermapbox": [
           {
            "marker": {
             "colorbar": {
              "outlinewidth": 0,
              "ticks": ""
             }
            },
            "type": "scattermapbox"
           }
          ],
          "scatterpolar": [
           {
            "marker": {
             "colorbar": {
              "outlinewidth": 0,
              "ticks": ""
             }
            },
            "type": "scatterpolar"
           }
          ],
          "scatterpolargl": [
           {
            "marker": {
             "colorbar": {
              "outlinewidth": 0,
              "ticks": ""
             }
            },
            "type": "scatterpolargl"
           }
          ],
          "scatterternary": [
           {
            "marker": {
             "colorbar": {
              "outlinewidth": 0,
              "ticks": ""
             }
            },
            "type": "scatterternary"
           }
          ],
          "surface": [
           {
            "colorbar": {
             "outlinewidth": 0,
             "ticks": ""
            },
            "colorscale": [
             [
              0,
              "#0d0887"
             ],
             [
              0.1111111111111111,
              "#46039f"
             ],
             [
              0.2222222222222222,
              "#7201a8"
             ],
             [
              0.3333333333333333,
              "#9c179e"
             ],
             [
              0.4444444444444444,
              "#bd3786"
             ],
             [
              0.5555555555555556,
              "#d8576b"
             ],
             [
              0.6666666666666666,
              "#ed7953"
             ],
             [
              0.7777777777777778,
              "#fb9f3a"
             ],
             [
              0.8888888888888888,
              "#fdca26"
             ],
             [
              1,
              "#f0f921"
             ]
            ],
            "type": "surface"
           }
          ],
          "table": [
           {
            "cells": {
             "fill": {
              "color": "#EBF0F8"
             },
             "line": {
              "color": "white"
             }
            },
            "header": {
             "fill": {
              "color": "#C8D4E3"
             },
             "line": {
              "color": "white"
             }
            },
            "type": "table"
           }
          ]
         },
         "layout": {
          "annotationdefaults": {
           "arrowcolor": "#2a3f5f",
           "arrowhead": 0,
           "arrowwidth": 1
          },
          "autotypenumbers": "strict",
          "coloraxis": {
           "colorbar": {
            "outlinewidth": 0,
            "ticks": ""
           }
          },
          "colorscale": {
           "diverging": [
            [
             0,
             "#8e0152"
            ],
            [
             0.1,
             "#c51b7d"
            ],
            [
             0.2,
             "#de77ae"
            ],
            [
             0.3,
             "#f1b6da"
            ],
            [
             0.4,
             "#fde0ef"
            ],
            [
             0.5,
             "#f7f7f7"
            ],
            [
             0.6,
             "#e6f5d0"
            ],
            [
             0.7,
             "#b8e186"
            ],
            [
             0.8,
             "#7fbc41"
            ],
            [
             0.9,
             "#4d9221"
            ],
            [
             1,
             "#276419"
            ]
           ],
           "sequential": [
            [
             0,
             "#0d0887"
            ],
            [
             0.1111111111111111,
             "#46039f"
            ],
            [
             0.2222222222222222,
             "#7201a8"
            ],
            [
             0.3333333333333333,
             "#9c179e"
            ],
            [
             0.4444444444444444,
             "#bd3786"
            ],
            [
             0.5555555555555556,
             "#d8576b"
            ],
            [
             0.6666666666666666,
             "#ed7953"
            ],
            [
             0.7777777777777778,
             "#fb9f3a"
            ],
            [
             0.8888888888888888,
             "#fdca26"
            ],
            [
             1,
             "#f0f921"
            ]
           ],
           "sequentialminus": [
            [
             0,
             "#0d0887"
            ],
            [
             0.1111111111111111,
             "#46039f"
            ],
            [
             0.2222222222222222,
             "#7201a8"
            ],
            [
             0.3333333333333333,
             "#9c179e"
            ],
            [
             0.4444444444444444,
             "#bd3786"
            ],
            [
             0.5555555555555556,
             "#d8576b"
            ],
            [
             0.6666666666666666,
             "#ed7953"
            ],
            [
             0.7777777777777778,
             "#fb9f3a"
            ],
            [
             0.8888888888888888,
             "#fdca26"
            ],
            [
             1,
             "#f0f921"
            ]
           ]
          },
          "colorway": [
           "#636efa",
           "#EF553B",
           "#00cc96",
           "#ab63fa",
           "#FFA15A",
           "#19d3f3",
           "#FF6692",
           "#B6E880",
           "#FF97FF",
           "#FECB52"
          ],
          "font": {
           "color": "#2a3f5f"
          },
          "geo": {
           "bgcolor": "white",
           "lakecolor": "white",
           "landcolor": "#E5ECF6",
           "showlakes": true,
           "showland": true,
           "subunitcolor": "white"
          },
          "hoverlabel": {
           "align": "left"
          },
          "hovermode": "closest",
          "mapbox": {
           "style": "light"
          },
          "paper_bgcolor": "white",
          "plot_bgcolor": "#E5ECF6",
          "polar": {
           "angularaxis": {
            "gridcolor": "white",
            "linecolor": "white",
            "ticks": ""
           },
           "bgcolor": "#E5ECF6",
           "radialaxis": {
            "gridcolor": "white",
            "linecolor": "white",
            "ticks": ""
           }
          },
          "scene": {
           "xaxis": {
            "backgroundcolor": "#E5ECF6",
            "gridcolor": "white",
            "gridwidth": 2,
            "linecolor": "white",
            "showbackground": true,
            "ticks": "",
            "zerolinecolor": "white"
           },
           "yaxis": {
            "backgroundcolor": "#E5ECF6",
            "gridcolor": "white",
            "gridwidth": 2,
            "linecolor": "white",
            "showbackground": true,
            "ticks": "",
            "zerolinecolor": "white"
           },
           "zaxis": {
            "backgroundcolor": "#E5ECF6",
            "gridcolor": "white",
            "gridwidth": 2,
            "linecolor": "white",
            "showbackground": true,
            "ticks": "",
            "zerolinecolor": "white"
           }
          },
          "shapedefaults": {
           "line": {
            "color": "#2a3f5f"
           }
          },
          "ternary": {
           "aaxis": {
            "gridcolor": "white",
            "linecolor": "white",
            "ticks": ""
           },
           "baxis": {
            "gridcolor": "white",
            "linecolor": "white",
            "ticks": ""
           },
           "bgcolor": "#E5ECF6",
           "caxis": {
            "gridcolor": "white",
            "linecolor": "white",
            "ticks": ""
           }
          },
          "title": {
           "x": 0.05
          },
          "xaxis": {
           "automargin": true,
           "gridcolor": "white",
           "linecolor": "white",
           "ticks": "",
           "title": {
            "standoff": 15
           },
           "zerolinecolor": "white",
           "zerolinewidth": 2
          },
          "yaxis": {
           "automargin": true,
           "gridcolor": "white",
           "linecolor": "white",
           "ticks": "",
           "title": {
            "standoff": 15
           },
           "zerolinecolor": "white",
           "zerolinewidth": 2
          }
         }
        },
        "width": 500,
        "xaxis": {
         "anchor": "y",
         "domain": [
          0,
          1
         ]
        },
        "yaxis": {
         "anchor": "x",
         "domain": [
          0,
          1
         ]
        }
       }
      }
     },
     "metadata": {},
     "output_type": "display_data"
    }
   ],
   "source": [
    "\n",
    "fig=px.imshow(spam_wc)\n",
    "fig.update_layout(paper_bgcolor=\"black\",width=500,font=dict(color=\"yellow\"))"
   ]
  },
  {
   "cell_type": "code",
   "execution_count": 60,
   "metadata": {},
   "outputs": [
    {
     "data": {
      "text/plain": [
       "546"
      ]
     },
     "execution_count": 60,
     "metadata": {},
     "output_type": "execute_result"
    }
   ],
   "source": [
    "spam_corpus=[]\n",
    "for msg in df[df['label']=='spam']['stem_sentence'].tolist():\n",
    "    for word in msg.split():\n",
    "        spam_corpus.append(word)\n",
    "\n",
    "len(spam_corpus)        "
   ]
  },
  {
   "cell_type": "code",
   "execution_count": 61,
   "metadata": {},
   "outputs": [
    {
     "data": {
      "text/plain": [
       "[('click', 75),\n",
       " ('account', 33),\n",
       " ('claim', 26),\n",
       " ('ha', 24),\n",
       " ('prize', 17),\n",
       " ('free', 14),\n",
       " ('congratul', 11),\n",
       " ('select', 11),\n",
       " ('get', 9),\n",
       " ('activ', 8),\n",
       " ('winner', 7),\n",
       " ('trial', 7),\n",
       " ('premium', 7),\n",
       " ('exclus', 6),\n",
       " ('access', 6),\n",
       " ('luxuri', 6),\n",
       " ('servic', 6),\n",
       " ('join', 6),\n",
       " ('quick', 5),\n",
       " ('credit', 5)]"
      ]
     },
     "execution_count": 61,
     "metadata": {},
     "output_type": "execute_result"
    }
   ],
   "source": [
    "spam_mostcmn=Counter(spam_corpus).most_common(20)\n",
    "spam_datafr=pd.DataFrame(spam_mostcmn,columns=['word','occurence'])\n",
    "spam_mostcmn"
   ]
  },
  {
   "cell_type": "code",
   "execution_count": 62,
   "metadata": {},
   "outputs": [
    {
     "data": {
      "image/png": "[encoded data removed]",
      "text/plain": [
       "<Figure size 800x800 with 1 Axes>"
      ]
     },
     "metadata": {},
     "output_type": "display_data"
    }
   ],
   "source": [
    "mp.figure(figsize=(8, 8))\n",
    "sn.barplot(x='word', y='occurence', data=spam_datafr)\n",
    "mp.title('Top 20 Most Common Words in Spam Corpus')\n",
    "mp.xlabel('word')\n",
    "mp.xticks(rotation=90)\n",
    "mp.ylabel('count')\n",
    "mp.show()"
   ]
  },
  {
   "cell_type": "code",
   "execution_count": 63,
   "metadata": {},
   "outputs": [
    {
     "data": {
      "text/plain": [
       "740"
      ]
     },
     "execution_count": 63,
     "metadata": {},
     "output_type": "execute_result"
    }
   ],
   "source": [
    "ham_word=[]\n",
    "for words in df[df['label']=='ham']['stem_sentence'].tolist():\n",
    "    for i in words.split(' '):\n",
    "        ham_word.append(i)\n",
    "\n",
    "len(ham_word)        \n"
   ]
  },
  {
   "cell_type": "code",
   "execution_count": 64,
   "metadata": {},
   "outputs": [],
   "source": [
    "ham_word_count=Counter(ham_word).most_common(20)\n",
    "ham_data=pd.DataFrame(ham_word_count,columns=['word','count'])"
   ]
  },
  {
   "cell_type": "code",
   "execution_count": 65,
   "metadata": {},
   "outputs": [
    {
     "data": {
      "image/png": "[encoded data removed]",
      "text/plain": [
       "<Figure size 800x800 with 1 Axes>"
      ]
     },
     "metadata": {},
     "output_type": "display_data"
    }
   ],
   "source": [
    "mp.figure(figsize=(8, 8))\n",
    "sn.barplot(x='word', y='count', data=ham_data)\n",
    "mp.title('Top 20 Most Common Words in ham Corpus')\n",
    "mp.xlabel('Word')\n",
    "mp.xticks(rotation=90)\n",
    "mp.ylabel('count')\n",
    "mp.show()"
   ]
  },
  {
   "cell_type": "code",
   "execution_count": 66,
   "metadata": {},
   "outputs": [],
   "source": [
    "labelE=LabelEncoder()\n",
    "df['label']=labelE.fit_transform(df['label'])"
   ]
  },
  {
   "cell_type": "code",
   "execution_count": 67,
   "metadata": {},
   "outputs": [
    {
     "data": {
      "text/html": [
       "<div>\n",
       "<style scoped>\n",
       "    .dataframe tbody tr th:only-of-type {\n",
       "        vertical-align: middle;\n",
       "    }\n",
       "\n",
       "    .dataframe tbody tr th {\n",
       "        vertical-align: top;\n",
       "    }\n",
       "\n",
       "    .dataframe thead th {\n",
       "        text-align: right;\n",
       "    }\n",
       "</style>\n",
       "<table border=\"1\" class=\"dataframe\">\n",
       "  <thead>\n",
       "    <tr style=\"text-align: right;\">\n",
       "      <th></th>\n",
       "      <th>email</th>\n",
       "      <th>label</th>\n",
       "      <th>total_characters</th>\n",
       "      <th>total_words</th>\n",
       "      <th>count_offer</th>\n",
       "      <th>count_act</th>\n",
       "      <th>get_limited_time</th>\n",
       "      <th>count_click</th>\n",
       "      <th>count_won</th>\n",
       "      <th>count_lottery</th>\n",
       "      <th>count_congratulation</th>\n",
       "      <th>count_claim</th>\n",
       "      <th>count_lucky</th>\n",
       "      <th>count_acc</th>\n",
       "      <th>count_chosen</th>\n",
       "      <th>count_stopwords</th>\n",
       "      <th>count_sent</th>\n",
       "      <th>stem_sentence</th>\n",
       "    </tr>\n",
       "  </thead>\n",
       "  <tbody>\n",
       "    <tr>\n",
       "      <th>0</th>\n",
       "      <td>upgrade to our premium plan for exclusive acce...</td>\n",
       "      <td>0</td>\n",
       "      <td>81</td>\n",
       "      <td>13</td>\n",
       "      <td>0</td>\n",
       "      <td>0</td>\n",
       "      <td>0</td>\n",
       "      <td>0</td>\n",
       "      <td>0</td>\n",
       "      <td>0</td>\n",
       "      <td>0</td>\n",
       "      <td>0</td>\n",
       "      <td>0</td>\n",
       "      <td>0</td>\n",
       "      <td>0</td>\n",
       "      <td>5</td>\n",
       "      <td>1</td>\n",
       "      <td>upgrad premium plan exclus access premium cont...</td>\n",
       "    </tr>\n",
       "    <tr>\n",
       "      <th>1</th>\n",
       "      <td>happy holidays from our team! wishing you joy ...</td>\n",
       "      <td>0</td>\n",
       "      <td>73</td>\n",
       "      <td>12</td>\n",
       "      <td>0</td>\n",
       "      <td>0</td>\n",
       "      <td>0</td>\n",
       "      <td>0</td>\n",
       "      <td>0</td>\n",
       "      <td>0</td>\n",
       "      <td>0</td>\n",
       "      <td>0</td>\n",
       "      <td>0</td>\n",
       "      <td>0</td>\n",
       "      <td>0</td>\n",
       "      <td>5</td>\n",
       "      <td>2</td>\n",
       "      <td>happi holiday team wish joy prosper thi season</td>\n",
       "    </tr>\n",
       "    <tr>\n",
       "      <th>2</th>\n",
       "      <td>we're hiring! check out our career opportuniti...</td>\n",
       "      <td>0</td>\n",
       "      <td>75</td>\n",
       "      <td>12</td>\n",
       "      <td>0</td>\n",
       "      <td>0</td>\n",
       "      <td>0</td>\n",
       "      <td>0</td>\n",
       "      <td>0</td>\n",
       "      <td>0</td>\n",
       "      <td>0</td>\n",
       "      <td>0</td>\n",
       "      <td>0</td>\n",
       "      <td>0</td>\n",
       "      <td>0</td>\n",
       "      <td>5</td>\n",
       "      <td>2</td>\n",
       "      <td>hire check career opportun join dynam team</td>\n",
       "    </tr>\n",
       "  </tbody>\n",
       "</table>\n",
       "</div>"
      ],
      "text/plain": [
       "                                               email  label  total_characters  \\\n",
       "0  upgrade to our premium plan for exclusive acce...      0                81   \n",
       "1  happy holidays from our team! wishing you joy ...      0                73   \n",
       "2  we're hiring! check out our career opportuniti...      0                75   \n",
       "\n",
       "   total_words  count_offer  count_act  get_limited_time  count_click  \\\n",
       "0           13            0          0                 0            0   \n",
       "1           12            0          0                 0            0   \n",
       "2           12            0          0                 0            0   \n",
       "\n",
       "   count_won  count_lottery  count_congratulation  count_claim  count_lucky  \\\n",
       "0          0              0                     0            0            0   \n",
       "1          0              0                     0            0            0   \n",
       "2          0              0                     0            0            0   \n",
       "\n",
       "   count_acc  count_chosen  count_stopwords  count_sent  \\\n",
       "0          0             0                5           1   \n",
       "1          0             0                5           2   \n",
       "2          0             0                5           2   \n",
       "\n",
       "                                       stem_sentence  \n",
       "0  upgrad premium plan exclus access premium cont...  \n",
       "1     happi holiday team wish joy prosper thi season  \n",
       "2         hire check career opportun join dynam team  "
      ]
     },
     "execution_count": 67,
     "metadata": {},
     "output_type": "execute_result"
    }
   ],
   "source": [
    "df.head(3)"
   ]
  },
  {
   "cell_type": "code",
   "execution_count": 69,
   "metadata": {},
   "outputs": [
    {
     "data": {
      "application/vnd.plotly.v1+json": {
       "config": {
        "plotlyServerURL": "https://plot.ly"
       },
       "data": [
        {
         "coloraxis": "coloraxis",
         "hovertemplate": "x: %{x}<br>y: %{y}<br>color: %{z}<extra></extra>",
         "name": "0",
         "texttemplate": "%{z}",
         "type": "heatmap",
         "x": [
          "label",
          "total_characters",
          "total_words",
          "count_offer",
          "count_act",
          "get_limited_time",
          "count_click",
          "count_won",
          "count_lottery",
          "count_congratulation",
          "count_claim",
          "count_lucky",
          "count_acc",
          "count_chosen",
          "count_stopwords",
          "count_sent"
         ],
         "xaxis": "x",
         "y": [
          "label",
          "total_characters",
          "total_words",
          "count_offer",
          "count_act",
          "get_limited_time",
          "count_click",
          "count_won",
          "count_lottery",
          "count_congratulation",
          "count_claim",
          "count_lucky",
          "count_acc",
          "count_chosen",
          "count_stopwords",
          "count_sent"
         ],
         "yaxis": "y",
         "z": {
          "bdata": "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",
          "dtype": "f8",
          "shape": "16, 16"
         }
        }
       ],
       "layout": {
        "coloraxis": {
         "colorscale": [
          [
           0,
           "#0d0887"
          ],
          [
           0.1111111111111111,
           "#46039f"
          ],
          [
           0.2222222222222222,
           "#7201a8"
          ],
          [
           0.3333333333333333,
           "#9c179e"
          ],
          [
           0.4444444444444444,
           "#bd3786"
          ],
          [
           0.5555555555555556,
           "#d8576b"
          ],
          [
           0.6666666666666666,
           "#ed7953"
          ],
          [
           0.7777777777777778,
           "#fb9f3a"
          ],
          [
           0.8888888888888888,
           "#fdca26"
          ],
          [
           1,
           "#f0f921"
          ]
         ]
        },
        "font": {
         "color": "Yellow"
        },
        "paper_bgcolor": "Black",
        "plot_bgcolor": "Black",
        "template": {
         "data": {
          "bar": [
           {
            "error_x": {
             "color": "#2a3f5f"
            },
            "error_y": {
             "color": "#2a3f5f"
            },
            "marker": {
             "line": {
              "color": "#E5ECF6",
              "width": 0.5
             },
             "pattern": {
              "fillmode": "overlay",
              "size": 10,
              "solidity": 0.2
             }
            },
            "type": "bar"
           }
          ],
          "barpolar": [
           {
            "marker": {
             "line": {
              "color": "#E5ECF6",
              "width": 0.5
             },
             "pattern": {
              "fillmode": "overlay",
              "size": 10,
              "solidity": 0.2
             }
            },
            "type": "barpolar"
           }
          ],
          "carpet": [
           {
            "aaxis": {
             "endlinecolor": "#2a3f5f",
             "gridcolor": "white",
             "linecolor": "white",
             "minorgridcolor": "white",
             "startlinecolor": "#2a3f5f"
            },
            "baxis": {
             "endlinecolor": "#2a3f5f",
             "gridcolor": "white",
             "linecolor": "white",
             "minorgridcolor": "white",
             "startlinecolor": "#2a3f5f"
            },
            "type": "carpet"
           }
          ],
          "choropleth": [
           {
            "colorbar": {
             "outlinewidth": 0,
             "ticks": ""
            },
            "type": "choropleth"
           }
          ],
          "contour": [
           {
            "colorbar": {
             "outlinewidth": 0,
             "ticks": ""
            },
            "colorscale": [
             [
              0,
              "#0d0887"
             ],
             [
              0.1111111111111111,
              "#46039f"
             ],
             [
              0.2222222222222222,
              "#7201a8"
             ],
             [
              0.3333333333333333,
              "#9c179e"
             ],
             [
              0.4444444444444444,
              "#bd3786"
             ],
             [
              0.5555555555555556,
              "#d8576b"
             ],
             [
              0.6666666666666666,
              "#ed7953"
             ],
             [
              0.7777777777777778,
              "#fb9f3a"
             ],
             [
              0.8888888888888888,
              "#fdca26"
             ],
             [
              1,
              "#f0f921"
             ]
            ],
            "type": "contour"
           }
          ],
          "contourcarpet": [
           {
            "colorbar": {
             "outlinewidth": 0,
             "ticks": ""
            },
            "type": "contourcarpet"
           }
          ],
          "heatmap": [
           {
            "colorbar": {
             "outlinewidth": 0,
             "ticks": ""
            },
            "colorscale": [
             [
              0,
              "#0d0887"
             ],
             [
              0.1111111111111111,
              "#46039f"
             ],
             [
              0.2222222222222222,
              "#7201a8"
             ],
             [
              0.3333333333333333,
              "#9c179e"
             ],
             [
              0.4444444444444444,
              "#bd3786"
             ],
             [
              0.5555555555555556,
              "#d8576b"
             ],
             [
              0.6666666666666666,
              "#ed7953"
             ],
             [
              0.7777777777777778,
              "#fb9f3a"
             ],
             [
              0.8888888888888888,
              "#fdca26"
             ],
             [
              1,
              "#f0f921"
             ]
            ],
            "type": "heatmap"
           }
          ],
          "histogram": [
           {
            "marker": {
             "pattern": {
              "fillmode": "overlay",
              "size": 10,
              "solidity": 0.2
             }
            },
            "type": "histogram"
           }
          ],
          "histogram2d": [
           {
            "colorbar": {
             "outlinewidth": 0,
             "ticks": ""
            },
            "colorscale": [
             [
              0,
              "#0d0887"
             ],
             [
              0.1111111111111111,
              "#46039f"
             ],
             [
              0.2222222222222222,
              "#7201a8"
             ],
             [
              0.3333333333333333,
              "#9c179e"
             ],
             [
              0.4444444444444444,
              "#bd3786"
             ],
             [
              0.5555555555555556,
              "#d8576b"
             ],
             [
              0.6666666666666666,
              "#ed7953"
             ],
             [
              0.7777777777777778,
              "#fb9f3a"
             ],
             [
              0.8888888888888888,
              "#fdca26"
             ],
             [
              1,
              "#f0f921"
             ]
            ],
            "type": "histogram2d"
           }
          ],
          "histogram2dcontour": [
           {
            "colorbar": {
             "outlinewidth": 0,
             "ticks": ""
            },
            "colorscale": [
             [
              0,
              "#0d0887"
             ],
             [
              0.1111111111111111,
              "#46039f"
             ],
             [
              0.2222222222222222,
              "#7201a8"
             ],
             [
              0.3333333333333333,
              "#9c179e"
             ],
             [
              0.4444444444444444,
              "#bd3786"
             ],
             [
              0.5555555555555556,
              "#d8576b"
             ],
             [
              0.6666666666666666,
              "#ed7953"
             ],
             [
              0.7777777777777778,
              "#fb9f3a"
             ],
             [
              0.8888888888888888,
              "#fdca26"
             ],
             [
              1,
              "#f0f921"
             ]
            ],
            "type": "histogram2dcontour"
           }
          ],
          "mesh3d": [
           {
            "colorbar": {
             "outlinewidth": 0,
             "ticks": ""
            },
            "type": "mesh3d"
           }
          ],
          "parcoords": [
           {
            "line": {
             "colorbar": {
              "outlinewidth": 0,
              "ticks": ""
             }
            },
            "type": "parcoords"
           }
          ],
          "pie": [
           {
            "automargin": true,
            "type": "pie"
           }
          ],
          "scatter": [
           {
            "fillpattern": {
             "fillmode": "overlay",
             "size": 10,
             "solidity": 0.2
            },
            "type": "scatter"
           }
          ],
          "scatter3d": [
           {
            "line": {
             "colorbar": {
              "outlinewidth": 0,
              "ticks": ""
             }
            },
            "marker": {
             "colorbar": {
              "outlinewidth": 0,
              "ticks": ""
             }
            },
            "type": "scatter3d"
           }
          ],
          "scattercarpet": [
           {
            "marker": {
             "colorbar": {
              "outlinewidth": 0,
              "ticks": ""
             }
            },
            "type": "scattercarpet"
           }
          ],
          "scattergeo": [
           {
            "marker": {
             "colorbar": {
              "outlinewidth": 0,
              "ticks": ""
             }
            },
            "type": "scattergeo"
           }
          ],
          "scattergl": [
           {
            "marker": {
             "colorbar": {
              "outlinewidth": 0,
              "ticks": ""
             }
            },
            "type": "scattergl"
           }
          ],
          "scattermap": [
           {
            "marker": {
             "colorbar": {
              "outlinewidth": 0,
              "ticks": ""
             }
            },
            "type": "scattermap"
           }
          ],
          "scattermapbox": [
           {
            "marker": {
             "colorbar": {
              "outlinewidth": 0,
              "ticks": ""
             }
            },
            "type": "scattermapbox"
           }
          ],
          "scatterpolar": [
           {
            "marker": {
             "colorbar": {
              "outlinewidth": 0,
              "ticks": ""
             }
            },
            "type": "scatterpolar"
           }
          ],
          "scatterpolargl": [
           {
            "marker": {
             "colorbar": {
              "outlinewidth": 0,
              "ticks": ""
             }
            },
            "type": "scatterpolargl"
           }
          ],
          "scatterternary": [
           {
            "marker": {
             "colorbar": {
              "outlinewidth": 0,
              "ticks": ""
             }
            },
            "type": "scatterternary"
           }
          ],
          "surface": [
           {
            "colorbar": {
             "outlinewidth": 0,
             "ticks": ""
            },
            "colorscale": [
             [
              0,
              "#0d0887"
             ],
             [
              0.1111111111111111,
              "#46039f"
             ],
             [
              0.2222222222222222,
              "#7201a8"
             ],
             [
              0.3333333333333333,
              "#9c179e"
             ],
             [
              0.4444444444444444,
              "#bd3786"
             ],
             [
              0.5555555555555556,
              "#d8576b"
             ],
             [
              0.6666666666666666,
              "#ed7953"
             ],
             [
              0.7777777777777778,
              "#fb9f3a"
             ],
             [
              0.8888888888888888,
              "#fdca26"
             ],
             [
              1,
              "#f0f921"
             ]
            ],
            "type": "surface"
           }
          ],
          "table": [
           {
            "cells": {
             "fill": {
              "color": "#EBF0F8"
             },
             "line": {
              "color": "white"
             }
            },
            "header": {
             "fill": {
              "color": "#C8D4E3"
             },
             "line": {
              "color": "white"
             }
            },
            "type": "table"
           }
          ]
         },
         "layout": {
          "annotationdefaults": {
           "arrowcolor": "#2a3f5f",
           "arrowhead": 0,
           "arrowwidth": 1
          },
          "autotypenumbers": "strict",
          "coloraxis": {
           "colorbar": {
            "outlinewidth": 0,
            "ticks": ""
           }
          },
          "colorscale": {
           "diverging": [
            [
             0,
             "#8e0152"
            ],
            [
             0.1,
             "#c51b7d"
            ],
            [
             0.2,
             "#de77ae"
            ],
            [
             0.3,
             "#f1b6da"
            ],
            [
             0.4,
             "#fde0ef"
            ],
            [
             0.5,
             "#f7f7f7"
            ],
            [
             0.6,
             "#e6f5d0"
            ],
            [
             0.7,
             "#b8e186"
            ],
            [
             0.8,
             "#7fbc41"
            ],
            [
             0.9,
             "#4d9221"
            ],
            [
             1,
             "#276419"
            ]
           ],
           "sequential": [
            [
             0,
             "#0d0887"
            ],
            [
             0.1111111111111111,
             "#46039f"
            ],
            [
             0.2222222222222222,
             "#7201a8"
            ],
            [
             0.3333333333333333,
             "#9c179e"
            ],
            [
             0.4444444444444444,
             "#bd3786"
            ],
            [
             0.5555555555555556,
             "#d8576b"
            ],
            [
             0.6666666666666666,
             "#ed7953"
            ],
            [
             0.7777777777777778,
             "#fb9f3a"
            ],
            [
             0.8888888888888888,
             "#fdca26"
            ],
            [
             1,
             "#f0f921"
            ]
           ],
           "sequentialminus": [
            [
             0,
             "#0d0887"
            ],
            [
             0.1111111111111111,
             "#46039f"
            ],
            [
             0.2222222222222222,
             "#7201a8"
            ],
            [
             0.3333333333333333,
             "#9c179e"
            ],
            [
             0.4444444444444444,
             "#bd3786"
            ],
            [
             0.5555555555555556,
             "#d8576b"
            ],
            [
             0.6666666666666666,
             "#ed7953"
            ],
            [
             0.7777777777777778,
             "#fb9f3a"
            ],
            [
             0.8888888888888888,
             "#fdca26"
            ],
            [
             1,
             "#f0f921"
            ]
           ]
          },
          "colorway": [
           "#636efa",
           "#EF553B",
           "#00cc96",
           "#ab63fa",
           "#FFA15A",
           "#19d3f3",
           "#FF6692",
           "#B6E880",
           "#FF97FF",
           "#FECB52"
          ],
          "font": {
           "color": "#2a3f5f"
          },
          "geo": {
           "bgcolor": "white",
           "lakecolor": "white",
           "landcolor": "#E5ECF6",
           "showlakes": true,
           "showland": true,
           "subunitcolor": "white"
          },
          "hoverlabel": {
           "align": "left"
          },
          "hovermode": "closest",
          "mapbox": {
           "style": "light"
          },
          "paper_bgcolor": "white",
          "plot_bgcolor": "#E5ECF6",
          "polar": {
           "angularaxis": {
            "gridcolor": "white",
            "linecolor": "white",
            "ticks": ""
           },
           "bgcolor": "#E5ECF6",
           "radialaxis": {
            "gridcolor": "white",
            "linecolor": "white",
            "ticks": ""
           }
          },
          "scene": {
           "xaxis": {
            "backgroundcolor": "#E5ECF6",
            "gridcolor": "white",
            "gridwidth": 2,
            "linecolor": "white",
            "showbackground": true,
            "ticks": "",
            "zerolinecolor": "white"
           },
           "yaxis": {
            "backgroundcolor": "#E5ECF6",
            "gridcolor": "white",
            "gridwidth": 2,
            "linecolor": "white",
            "showbackground": true,
            "ticks": "",
            "zerolinecolor": "white"
           },
           "zaxis": {
            "backgroundcolor": "#E5ECF6",
            "gridcolor": "white",
            "gridwidth": 2,
            "linecolor": "white",
            "showbackground": true,
            "ticks": "",
            "zerolinecolor": "white"
           }
          },
          "shapedefaults": {
           "line": {
            "color": "#2a3f5f"
           }
          },
          "ternary": {
           "aaxis": {
            "gridcolor": "white",
            "linecolor": "white",
            "ticks": ""
           },
           "baxis": {
            "gridcolor": "white",
            "linecolor": "white",
            "ticks": ""
           },
           "bgcolor": "#E5ECF6",
           "caxis": {
            "gridcolor": "white",
            "linecolor": "white",
            "ticks": ""
           }
          },
          "title": {
           "x": 0.05
          },
          "xaxis": {
           "automargin": true,
           "gridcolor": "white",
           "linecolor": "white",
           "ticks": "",
           "title": {
            "standoff": 15
           },
           "zerolinecolor": "white",
           "zerolinewidth": 2
          },
          "yaxis": {
           "automargin": true,
           "gridcolor": "white",
           "linecolor": "white",
           "ticks": "",
           "title": {
            "standoff": 15
           },
           "zerolinecolor": "white",
           "zerolinewidth": 2
          }
         }
        },
        "title": {
         "font": {
          "color": "RED"
         },
         "text": "Feature Correlation Matrix"
        },
        "xaxis": {
         "anchor": "y",
         "domain": [
          0,
          1
         ]
        },
        "yaxis": {
         "anchor": "x",
         "autorange": "reversed",
         "domain": [
          0,
          1
         ]
        }
       }
      }
     },
     "metadata": {},
     "output_type": "display_data"
    }
   ],
   "source": [
    "# Select only numeric columns for correlation\n",
    "numeric_df = df.select_dtypes(include=['number'])\n",
    "df_corr = numeric_df.corr()\n",
    "\n",
    "# Plot the correlation matrix\n",
    "fig = px.imshow(df_corr, text_auto=True, aspect=\"auto\", title='Feature Correlation Matrix')\n",
    "fig.update_layout(plot_bgcolor=\"Black\", paper_bgcolor=\"Black\", font=dict(color=\"Yellow\"), title_font=dict(color=\"RED\"))\n",
    "fig.show()"
   ]
  },
  {
   "cell_type": "code",
   "execution_count": 70,
   "metadata": {},
   "outputs": [],
   "source": [
    "vectorizer=CountVectorizer()\n",
    "x_bow=vectorizer.fit_transform(df['stem_sentence']).toarray()"
   ]
  },
  {
   "cell_type": "code",
   "execution_count": 71,
   "metadata": {},
   "outputs": [
    {
     "name": "stdout",
     "output_type": "stream",
     "text": [
      "BoW feature names: ['50' 'access' 'account' 'achiev' 'act' 'activ' 'ad' 'advanc' 'affili'\n",
      " 'alway' 'amazon' 'ani' 'anniversari' 'announc' 'annual' 'anoth'\n",
      " 'antiviru' 'anyth' 'anytim' 'app' 'appeal' 'appli' 'appreci' 'asap'\n",
      " 'assist' 'attach' 'attend' 'await' 'back' 'balanc' 'ban' 'bank' 'base'\n",
      " 'befor' 'benefit' 'better' 'big' 'blog' 'bonu' 'brows' 'busi' 'buy'\n",
      " 'call' 'car' 'card' 'career' 'cash' 'celebr' 'chanc' 'chang' 'channel'\n",
      " 'charg' 'chat' 'check' 'chosen' 'claim' 'click' 'club' 'code' 'collabor'\n",
      " 'collect' 'commit' 'compani' 'compromis' 'comput' 'concern' 'confirm'\n",
      " 'congratul' 'connect' 'contact' 'content' 'continu' 'credit' 'cruis'\n",
      " 'current' 'custom' 'daili' 'day' 'dear' 'deliv' 'deliveri' 'demand'\n",
      " 'design' 'detail' 'detect' 'differ' 'difficulti' 'discount' 'disput'\n",
      " 'download' 'due' 'dynam' 'earli' 'earn' 'ecofriendli' 'email' 'end'\n",
      " 'endofseason' 'enhanc' 'enjoy' 'europ' 'event' 'everi' 'excel' 'excit'\n",
      " 'exclus' 'experi' 'experienc' 'expir' 'extend' 'facebook' 'fast' 'faster'\n",
      " 'favorit' 'featur' 'feedback' 'first' 'flag' 'flash' 'follow' 'forget'\n",
      " 'free' 'friendli' 'full' 'fund' 'gain' 'get' 'gift' 'giveaway' 'go'\n",
      " 'good' 'grab' 'great' 'ha' 'hack' 'handbag' 'happi' 'hello' 'help' 'high'\n",
      " 'hire' 'holiday' 'hope' 'host' 'huge' 'ident' 'immedi' 'improv'\n",
      " 'inconveni' 'infect' 'inform' 'inherit' 'initi' 'inquiri' 'insight'\n",
      " 'instant' 'interest' 'intern' 'interview' 'introduc' 'invest' 'invit'\n",
      " 'iphon' 'issu' 'item' 'jackpot' 'job' 'join' 'journey' 'joy' 'keep'\n",
      " 'know' 'latest' 'launch' 'learn' 'let' 'limitedtim' 'link' 'live' 'loan'\n",
      " 'lock' 'login' 'long' 'loop' 'lotteri' 'loyalti' 'lucki' 'luxuri'\n",
      " 'mainten' 'make' 'mani' 'matter' 'may' 'media' 'meet' 'membership'\n",
      " 'method' 'mileston' 'milliondollar' 'miss' 'money' 'moneymak' 'morn'\n",
      " 'name' 'need' 'netflix' 'new' 'news' 'newslett' 'next' 'note' 'nt'\n",
      " 'offer' 'one' 'onli' 'onlin' 'open' 'opinion' 'opportun' 'order' 'organ'\n",
      " 'overnight' 'packag' 'page' 'paradis' 'part' 'partnership' 'password'\n",
      " 'patienc' 'payment' 'paypal' 'perform' 'period' 'perk' 'person' 'plan'\n",
      " 'pleas' 'point' 'polici' 'popular' 'post' 'preapprov' 'premium' 'present'\n",
      " 'price' 'prioriti' 'privaci' 'privileg' 'prize' 'process' 'product'\n",
      " 'program' 'prompt' 'prosper' 'provid' 'purchas' 'question' 'quick' 'rang'\n",
      " 'reach' 'readi' 'realtim' 'receiv' 'recent' 'recommend' 'redeem' 'refer'\n",
      " 'refund' 'regist' 'releas' 'remind' 'renew' 'report' 'request' 'reserv'\n",
      " 'reset' 'resolv' 'restor' 'retir' 'review' 'revolutionari' 'reward'\n",
      " 'rich' 'rsvp' 'sale' 'satisfact' 'save' 'schedul' 'scheme' 'season'\n",
      " 'secret' 'secur' 'see' 'select' 'seri' 'serv' 'server' 'servic' 'session'\n",
      " 'share' 'ship' 'shipment' 'shop' 'shortli' 'sign' 'slide' 'smoother'\n",
      " 'social' 'softwar' 'soon' 'sorri' 'special' 'spot' 'spree' 'start'\n",
      " 'statu' 'stay' 'storag' 'strive' 'submit' 'subscrib' 'subscript'\n",
      " 'success' 'summer' 'support' 'survey' 'suspend' 'suspici' 'sustain'\n",
      " 'take' 'team' 'technic' 'thank' 'thi' 'thing' 'think' 'thought' 'thrill'\n",
      " 'ticket' 'today' 'togeth' 'token' 'tomorrow' 'tonight' 'track' 'transact'\n",
      " 'tri' 'trial' 'trip' 'tropic' 'tune' 'unauthor' 'undergo' 'unlimit'\n",
      " 'unlock' 'unusu' 'upcom' 'updat' 'upgrad' 'urgent' 'us' 'use' 'user'\n",
      " 'vacat' 'valu' 'valuabl' 'verifi' 'vip' 'viru' 'volum' 'voucher' 'wa'\n",
      " 'want' 'watch' 'way' 'webinar' 'websit' 'week' 'welcom' 'wide' 'win'\n",
      " 'winner' 'wish' 'within' 'work' 'workshop' 'xyz123' 'year']\n",
      "BoW features:\n",
      " [[0 1 0 ... 0 0 0]\n",
      " [0 0 0 ... 0 0 0]\n",
      " [0 0 0 ... 0 0 0]\n",
      " ...\n",
      " [0 0 0 ... 0 0 0]\n",
      " [0 0 0 ... 0 0 0]\n",
      " [1 0 0 ... 0 0 0]]\n"
     ]
    }
   ],
   "source": [
    "print(\"BoW feature names:\", vectorizer.get_feature_names_out())\n",
    "print(\"BoW features:\\n\", x_bow)"
   ]
  },
  {
   "cell_type": "code",
   "execution_count": null,
   "metadata": {},
   "outputs": [],
   "source": []
  },
  {
   "cell_type": "code",
   "execution_count": 72,
   "metadata": {},
   "outputs": [
    {
     "name": "stdout",
     "output_type": "stream",
     "text": [
      "PCA reduced features:\n",
      " [[-0.32563326 -0.1033399   1.29371566 ... -0.32215686 -0.31215595\n",
      "  -0.40541235]\n",
      " [-0.45159986 -0.27905575 -0.07326397 ... -0.07479536 -0.51934931\n",
      "  -0.39743431]\n",
      " [-0.50284753 -0.31774072 -0.03366367 ... -0.26260217 -0.41245836\n",
      "  -0.13963178]\n",
      " ...\n",
      " [-0.32996033  0.00734067  1.4642937  ... -0.12609756  0.55610538\n",
      "  -0.33059734]\n",
      " [-0.49669078 -0.36441509 -0.04227589 ...  0.22110573 -0.38011489\n",
      "  -0.03661244]\n",
      " [-0.66125658 -0.37689019 -0.2395447  ...  0.24500803 -0.01407432\n",
      "  -0.35152673]]\n"
     ]
    }
   ],
   "source": [
    "pca = PCA(n_components=15) \n",
    "X_bow_pca = pca.fit_transform(x_bow)\n",
    "\n",
    "print(\"PCA reduced features:\\n\", X_bow_pca)"
   ]
  },
  {
   "cell_type": "code",
   "execution_count": 73,
   "metadata": {},
   "outputs": [
    {
     "data": {
      "text/plain": [
       "Index(['email', 'label', 'total_characters', 'total_words', 'count_offer',\n",
       "       'count_act', 'get_limited_time', 'count_click', 'count_won',\n",
       "       'count_lottery', 'count_congratulation', 'count_claim', 'count_lucky',\n",
       "       'count_acc', 'count_chosen', 'count_stopwords', 'count_sent',\n",
       "       'stem_sentence'],\n",
       "      dtype='object')"
      ]
     },
     "execution_count": 73,
     "metadata": {},
     "output_type": "execute_result"
    }
   ],
   "source": [
    "df.columns"
   ]
  },
  {
   "cell_type": "code",
   "execution_count": 74,
   "metadata": {},
   "outputs": [],
   "source": [
    "df.drop('email',axis=1,inplace=True)"
   ]
  },
  {
   "cell_type": "code",
   "execution_count": 75,
   "metadata": {},
   "outputs": [],
   "source": [
    "X_numerical = df[['total_characters', 'total_words', 'count_offer', 'count_act', 'get_limited_time',\n",
    "                  'count_click', 'count_won', 'count_lottery', 'count_congratulation', 'count_claim',\n",
    "                  'count_lucky', 'count_acc', 'count_chosen', 'count_stopwords', 'count_sent']].values"
   ]
  },
  {
   "cell_type": "code",
   "execution_count": 76,
   "metadata": {},
   "outputs": [
    {
     "data": {
      "text/plain": [
       "array([0, 0, 0, 1, 0, 0, 1, 0, 0, 1, 0, 0, 1, 0, 0, 0, 1, 1, 0, 1, 1, 0,\n",
       "       0, 1, 1, 0, 1, 0, 0, 1, 0, 1, 1, 1, 0, 1, 1, 0, 0, 0, 0, 0, 0, 0,\n",
       "       0, 1, 0, 1, 1, 0, 1, 1, 1, 0, 1, 0, 0, 1, 0, 1, 1, 0, 1, 0, 0, 1,\n",
       "       1, 1, 0, 0, 0, 1, 0, 0, 0, 1, 1, 0, 1, 1, 0, 1, 0, 0, 0, 1, 0, 0,\n",
       "       1, 1, 0, 0, 1, 0, 0, 0, 0, 1, 0, 1, 1, 1, 0, 0, 1, 1, 0, 0, 0, 0,\n",
       "       1, 1, 0, 1, 1, 1, 1, 0, 0, 1, 0, 1, 0, 0, 0, 0, 0, 0, 0, 1, 0, 0,\n",
       "       1, 1, 0, 0, 0, 0, 1, 1, 0, 0, 1, 1, 1, 1, 0, 0, 1, 0, 1, 0, 0, 0,\n",
       "       0, 0, 1, 1, 0, 1, 1, 0, 0, 1, 1, 1, 1, 0, 1, 0, 0, 1, 1, 0, 0, 1,\n",
       "       0, 0, 1])"
      ]
     },
     "execution_count": 76,
     "metadata": {},
     "output_type": "execute_result"
    }
   ],
   "source": [
    "y=df['label'].values\n",
    "y"
   ]
  },
  {
   "cell_type": "code",
   "execution_count": 77,
   "metadata": {},
   "outputs": [],
   "source": [
    "mx=MinMaxScaler()\n",
    "x_bow_mx=mx.fit_transform(X_numerical)"
   ]
  },
  {
   "cell_type": "code",
   "execution_count": 78,
   "metadata": {},
   "outputs": [
    {
     "data": {
      "text/plain": [
       "array([[ 0.52727273,  0.4       ,  0.        , ..., -0.32215686,\n",
       "        -0.31215595, -0.40541235],\n",
       "       [ 0.38181818,  0.3       ,  0.        , ..., -0.07479536,\n",
       "        -0.51934931, -0.39743431],\n",
       "       [ 0.41818182,  0.3       ,  0.        , ..., -0.26260217,\n",
       "        -0.41245836, -0.13963178],\n",
       "       ...,\n",
       "       [ 0.6       ,  0.5       ,  0.        , ..., -0.12609756,\n",
       "         0.55610538, -0.33059734],\n",
       "       [ 0.29090909,  0.3       ,  0.        , ...,  0.22110573,\n",
       "        -0.38011489, -0.03661244],\n",
       "       [ 0.43636364,  0.4       ,  1.        , ...,  0.24500803,\n",
       "        -0.01407432, -0.35152673]])"
      ]
     },
     "execution_count": 78,
     "metadata": {},
     "output_type": "execute_result"
    }
   ],
   "source": [
    "X_combined = np.hstack((x_bow_mx, X_bow_pca))\n",
    "X_combined"
   ]
  },
  {
   "cell_type": "code",
   "execution_count": 79,
   "metadata": {},
   "outputs": [],
   "source": [
    "x_train,x_test,y_train,y_test=train_test_split(X_combined,y,random_state=42,test_size=0.2)"
   ]
  },
  {
   "cell_type": "code",
   "execution_count": 80,
   "metadata": {},
   "outputs": [],
   "source": [
    "classifiers = [\n",
    "    MultinomialNB(),\n",
    "    GaussianNB(),\n",
    "    BernoulliNB(),\n",
    "    ComplementNB(),\n",
    "    RandomForestClassifier(),\n",
    "    ExtraTreesClassifier(),\n",
    "    AdaBoostClassifier(),\n",
    "    xgb.XGBClassifier(),\n",
    "    DecisionTreeClassifier()\n",
    "]"
   ]
  },
  {
   "cell_type": "code",
   "execution_count": 81,
   "metadata": {},
   "outputs": [],
   "source": [
    "params = {\n",
    "  \n",
    "    'GaussianNB': {},\n",
    "    'BernoulliNB': {},\n",
    "    'RandomForestClassifier': {'n_estimators': [50, 100, 200]},\n",
    "    'ExtraTreesClassifier': {'n_estimators': [50, 100, 200]},\n",
    "    'AdaBoostClassifier': {'n_estimators': [50, 100, 200], 'learning_rate': [0.01, 0.1, 1.0]},\n",
    "    'XGBClassifier': {'max_depth': [3, 6, 9], 'learning_rate': [0.01, 0.1, 0.2]},\n",
    "    'DecisionTreeClassifier': {'max_depth': [None, 10, 20]}\n",
    "}"
   ]
  },
  {
   "cell_type": "code",
   "execution_count": 82,
   "metadata": {},
   "outputs": [],
   "source": [
    "results = {'Classifier': [], 'Best Parameters': [], 'Best CV Accuracy': [], 'Test Set Accuracy': [], 'Test Set Precision': []}\n",
    "\n",
    "# Grid search for best model\n",
    "for clf in classifiers:\n",
    "    clf_name = clf.__class__.__name__\n",
    "    if clf_name in params:\n",
    "        param_grid = params[clf_name]\n",
    "        grid_search = GridSearchCV(clf, param_grid, cv=5, scoring='accuracy')\n",
    "        grid_search.fit(x_train, y_train)\n",
    "        \n",
    "        results['Classifier'].append(clf_name)\n",
    "        results['Best Parameters'].append(grid_search.best_params_)\n",
    "        results['Best CV Accuracy'].append(grid_search.best_score_)\n",
    "        \n",
    "        y_pred = grid_search.predict(x_test)\n",
    "        test_accuracy = accuracy_score(y_test, y_pred)\n",
    "        results['Test Set Accuracy'].append(test_accuracy)\n",
    "        test_precision = precision_score(y_test, y_pred, average='weighted')\n",
    "        results['Test Set Precision'].append(test_precision)\n",
    "\n"
   ]
  },
  {
   "cell_type": "code",
   "execution_count": 83,
   "metadata": {},
   "outputs": [
    {
     "data": {
      "text/plain": [
       "['model.pkl']"
      ]
     },
     "execution_count": 83,
     "metadata": {},
     "output_type": "execute_result"
    }
   ],
   "source": [
    "best_model = ExtraTreesClassifier(n_estimators=100)\n",
    "best_model.fit(x_train, y_train)\n",
    "j.dump(vectorizer, \"vectorizer.pkl\")\n",
    "j.dump(pca, \"pca.pkl\")\n",
    "j.dump(mx, \"scaler.pkl\")\n",
    "j.dump(best_model, \"model.pkl\")"
   ]
  }
 ],
 "metadata": {
  "kernelspec": {
   "display_name": "Python 3",
   "language": "python",
   "name": "python3"
  },
  "language_info": {
   "codemirror_mode": {
    "name": "ipython",
    "version": 3
   },
   "file_extension": ".py",
   "mimetype": "text/x-python",
   "name": "python",
   "nbconvert_exporter": "python",
   "pygments_lexer": "ipython3",
   "version": "3.11.9"
  }
 },
 "nbformat": 4,
 "nbformat_minor": 2
}
